{
  "nbformat": 4,
  "nbformat_minor": 0,
  "metadata": {
    "colab": {
      "provenance": []
    },
    "kernelspec": {
      "name": "python3",
      "display_name": "Python 3"
    },
    "language_info": {
      "name": "python"
    }
  },
  "cells": [
    {
      "cell_type": "code",
      "execution_count": null,
      "metadata": {
        "id": "snLuBJE07p7T"
      },
      "outputs": [],
      "source": []
    },
    {
      "cell_type": "markdown",
      "source": [
        "# **Sum of the Element present in array**\n",
        "\n",
        "Example 1:\n",
        "Input: N = 5, array[] = {1,2,3,4,5}\n",
        "Output: 15\n",
        "Explanation: Sum of all the elements is 1+2+3+4+5 = 15\n",
        "\n",
        "Example 2:\n",
        "Input:  N=6, array[] = {1,2,1,1,5,1}\n",
        "Output: 11\n",
        "Explanation: Sum of all the elements is 1+2+1+1+5+1 = 11"
      ],
      "metadata": {
        "id": "7PCAUiAM7smX"
      }
    },
    {
      "cell_type": "code",
      "source": [
        "sum=0\n",
        "for i in range(len(arr)):\n",
        "  sum+=arr[i]\n",
        "  i+=1\n",
        "print(sum)\n",
        "\n",
        "\n",
        "arr=[1,2,3,4,5]\n"
      ],
      "metadata": {
        "colab": {
          "base_uri": "https://localhost:8080/"
        },
        "id": "D497F4o67zvX",
        "outputId": "b977a99d-b7c9-4aff-b6bf-a84cc16725e3"
      },
      "execution_count": null,
      "outputs": [
        {
          "output_type": "stream",
          "name": "stdout",
          "text": [
            "15\n"
          ]
        }
      ]
    },
    {
      "cell_type": "markdown",
      "source": [
        "# **Count frequency of each element in an array**\n",
        "Example 1:\n",
        "Input: arr[] = {10,5,10,15,10,5};\n",
        "Output: 10  3\n",
        "\t 5  2\n",
        "        15  1\n",
        "Explanation: 10 occurs 3 times in the array\n",
        "\t      5 occurs 2 times in the array\n",
        "              15 occurs 1 time in the array\n",
        "\n",
        "Example2:\n",
        "Input: arr[] = {2,2,3,4,4,2};\n",
        "Output: 2  3\n",
        "\t3  1\n",
        "        4  2\n",
        "Explanation: 2 occurs 3 times in the array\n",
        "\t     3 occurs 1 time in the array\n",
        "             4 occurs 2 time in the array"
      ],
      "metadata": {
        "id": "pM2R-5ZB9AKD"
      }
    },
    {
      "cell_type": "code",
      "source": [
        "def freq(arr):\n",
        "  dict={}\n",
        "  for i in range(len(arr)):\n",
        "    if arr[i] in dict:\n",
        "      dict[arr[i]]+=1\n",
        "      i+=1\n",
        "    else:\n",
        "      dict[arr[i]]=1\n",
        "  return dict\n",
        "n=7\n",
        "arr=[1,2,1,2,3,3,3]\n",
        "print(freq(arr))"
      ],
      "metadata": {
        "colab": {
          "base_uri": "https://localhost:8080/"
        },
        "id": "jWeIICm_8Qgt",
        "outputId": "4ea9b948-27e0-426d-85d2-c3be2c002665"
      },
      "execution_count": null,
      "outputs": [
        {
          "output_type": "stream",
          "name": "stdout",
          "text": [
            "{1: 2, 2: 2, 3: 3}\n"
          ]
        }
      ]
    },
    {
      "cell_type": "markdown",
      "source": [
        "# **Rotate array by K elements – Block Swap Algorithm**\n",
        "Example 1:<br>\n",
        "Input: N = 5, array[] = {1,2,3,4,5} K=2<br>\n",
        "Output: {3,4,5,1,2}<br>\n",
        "Explanation: Rotate the array to right by 2 elements.\n",
        "\n",
        "Example 2:<br>\n",
        "Input: N = 7, array[] = {1,2,3,4,5,6,7} K=3<br>\n",
        "Output: {4,5,6,7,1,2,3}<br>\n",
        "Explanation: Rotate the array to right by 3 elements."
      ],
      "metadata": {
        "id": "t-gZffsm-lpV"
      }
    },
    {
      "cell_type": "code",
      "source": [
        "def rotate(arr,k):\n",
        "  k=k%len(arr)\n",
        "\n",
        "  for _ in range(k):\n",
        "    arr.insert(0,arr.pop())\n",
        "\n",
        "arr = [1, 2, 3, 4, 5]\n",
        "k1 = 2\n",
        "rotate(arr ,k1)\n",
        "print(\"Example 1 Output:\", arr)\n",
        "\n",
        "\n",
        "arr = [1, 2, 3, 4, 5, 6, 7]\n",
        "k2 = 3\n",
        "rotate(arr, k2)\n",
        "print(\"Example 2 Output:\", arr)\n",
        "\n"
      ],
      "metadata": {
        "colab": {
          "base_uri": "https://localhost:8080/"
        },
        "id": "Q7maI6OZ-nI5",
        "outputId": "6a83e228-de38-4893-bbe9-ea8d4a78584d"
      },
      "execution_count": null,
      "outputs": [
        {
          "output_type": "stream",
          "name": "stdout",
          "text": [
            "Example 1 Output: [4, 5, 1, 2, 3]\n",
            "Example 2 Output: [5, 6, 7, 1, 2, 3, 4]\n"
          ]
        }
      ]
    },
    {
      "cell_type": "markdown",
      "source": [
        "**Example 1:\n",
        "Input: N = 5, array[] = {1,2,3,4,5}\n",
        "Output: 3 **\n",
        "*Explanation: Average is the sum of all the elements divided by number of elements.Therefore (1+2+3+4+5)/5 = 3.*\n",
        "\n",
        "**Example 2:\n",
        "Input:  N=6, array[] = {1,2,1,1,5,1}\n",
        "Output: 1.8 **\n",
        "*Explanation: Average is the sum of all the elements divided by number of elements.Therefore (1+2+1+1+5+1)/6 = 1.8*"
      ],
      "metadata": {
        "id": "Ei5-8NIbBw47"
      }
    },
    {
      "cell_type": "code",
      "source": [
        "def average(arr,n):\n",
        "  sum=0\n",
        "  for i in range(len(arr)):\n",
        "    sum+=arr[i]\n",
        "    i+=1\n",
        "  return float(sum/n)\n",
        "n1=5\n",
        "arr1=[1,2,3,4,5]\n",
        "print(average(arr1,n1))\n",
        "\n",
        "n2=6\n",
        "arr2=[1,2,1,1,5,1]\n",
        "print(average(arr2,n2))\n",
        "\n"
      ],
      "metadata": {
        "colab": {
          "base_uri": "https://localhost:8080/"
        },
        "id": "qvBtLXYBB_F1",
        "outputId": "45270e77-32b6-4ee8-d0d2-f386884cd4af"
      },
      "execution_count": null,
      "outputs": [
        {
          "output_type": "stream",
          "name": "stdout",
          "text": [
            "3.0\n",
            "1.8333333333333333\n"
          ]
        }
      ]
    },
    {
      "cell_type": "markdown",
      "source": [
        "# **REMOVE DUPLICATE BOTH SORTED AND UNSORTED ARRAY**\n",
        "\n",
        "Example 1:\n",
        "\n",
        "Input: arr[1,1,2,2,2,3,3]\n",
        "\n",
        "Output: arr[1,2,3,_,_,_,_]\n",
        "\n",
        "Explanation: Total number of unique elements are 3, i.e[1,2,3] and Therefore return 3 after assigning [1,2,3] in the beginning of the array.\n",
        "\n",
        "Example 2:\n",
        "\n",
        "Input: arr[1,1,1,2,2,3,3,3,3,4,4]\n",
        "\n",
        "Output: arr[1,2,3,4,_,_,_,_,_,_,_]\n",
        "\n",
        "Explanation: Total number of unique elements are 4, i.e[1,2,3,4] and Therefore return 4 after assigning [1,2,3,4] in the beginning of the array. *italicised text* *italicised text*"
      ],
      "metadata": {
        "id": "NvwQzAZnJ3FG"
      }
    },
    {
      "cell_type": "code",
      "source": [
        "def removeDuplicate(arr):\n",
        "  unique=[]\n",
        "  for i in range(len(arr)-1):\n",
        "    if arr[i] not in unique:\n",
        "      unique.append(arr[i])\n",
        "      i+=1\n",
        "    else:\n",
        "      i+=1\n",
        "  return unique\n",
        "\n",
        "arr1=[1,1,1,2,2,3,3,3,3,4,4]\n",
        "print(\"unique value array is :\",removeDuplicate(arr1))\n",
        "\n",
        "arr2=[1,1,2,2,2,3,3]\n",
        "print(\"unique value array is :\",removeDuplicate(arr2))\n",
        "\n",
        "arr3=[2,3,1,9,3,1,3,9]\n",
        "print(\"unique value array is :\",removeDuplicate(arr3))\n",
        "\n",
        "\n",
        "#Using set() we can remove duplicate element from array.\n",
        "\n"
      ],
      "metadata": {
        "colab": {
          "base_uri": "https://localhost:8080/"
        },
        "id": "Az2Rq87DKB1A",
        "outputId": "5d4d54a3-53bd-4a94-89fb-3bb493c1fa93"
      },
      "execution_count": null,
      "outputs": [
        {
          "output_type": "stream",
          "name": "stdout",
          "text": [
            "unique value array is : [1, 2, 3, 4]\n",
            "unique value array is : [1, 2, 3]\n",
            "unique value array is : [2, 3, 1, 9]\n"
          ]
        }
      ]
    },
    {
      "cell_type": "markdown",
      "source": [
        "***Above code has time complexity is O(n^2) and Space comlexity is O(n)***"
      ],
      "metadata": {
        "id": "F6m_XqR1MLar"
      }
    },
    {
      "cell_type": "markdown",
      "source": [
        "**Optimal solution is given below**<br>\n",
        "**Time complexity is O(nlog n)**<br>\n",
        "**Space Complexity is O(1)**"
      ],
      "metadata": {
        "id": "JJ0vc_L9OGTc"
      }
    },
    {
      "cell_type": "code",
      "source": [
        "def removeDuplicate(arr):\n",
        "  if not arr:\n",
        "    return arr\n",
        "\n",
        "  arr.sort()\n",
        "  index=1\n",
        "  for i in range(1,len(arr)):\n",
        "    if arr[i]!= arr[i-1]:\n",
        "      arr[index]=arr[i]\n",
        "      index+=1\n",
        "  del arr[index:]\n",
        "  return arr\n",
        "\n",
        "arr1=[1,1,1,2,2,3,3,3,3,4,4]\n",
        "print(\"unique value array is :\",removeDuplicate(arr1))\n",
        "\n",
        "arr2=[1,1,2,2,2,3,3]\n",
        "print(\"unique value array is :\",removeDuplicate(arr2))\n",
        "\n"
      ],
      "metadata": {
        "colab": {
          "base_uri": "https://localhost:8080/"
        },
        "id": "3y6gmTeyOqlX",
        "outputId": "2c8ce838-555c-4c4b-8027-39819356b1b1"
      },
      "execution_count": null,
      "outputs": [
        {
          "output_type": "stream",
          "name": "stdout",
          "text": [
            "unique value array is : [1, 2, 3, 4]\n",
            "unique value array is : [1, 2, 3]\n"
          ]
        }
      ]
    },
    {
      "cell_type": "markdown",
      "source": [
        "# **Adding an element into Array**\n",
        "**Problem Statement:** *Given an array of N integers, write a program to add an array element at the beginning, end, and at a specific position.*<br>\n",
        "Example:\n",
        "Input: N = 5, array[] = {1,2,3,4,5}<br>\n",
        "insertbeginning(6)<br>\n",
        "insertending(7)<br>\n",
        "insertatpos(8,4)<br>\n",
        "Output: 6,1,2,8,3,4,5,7<br>\n",
        "Explanation: 6 is added at the beginning and 7 is added at the end and 8 is added at position 4"
      ],
      "metadata": {
        "id": "k74w9fULP7Jo"
      }
    },
    {
      "cell_type": "markdown",
      "source": [
        "*Insert at Beginning*"
      ],
      "metadata": {
        "id": "81rJy5wMWGjC"
      }
    },
    {
      "cell_type": "code",
      "source": [
        "def insertbeginning(arr,ele):\n",
        "  arr=[ele]+arr\n",
        "  return arr\n",
        "arr=[1,2,3,4,5]\n",
        "ele=0\n",
        "print(insertbeginning(arr,ele))"
      ],
      "metadata": {
        "colab": {
          "base_uri": "https://localhost:8080/"
        },
        "id": "uuJ9_DHnUc4t",
        "outputId": "574c8a63-d7c1-42a9-8bcc-3a0812d92746"
      },
      "execution_count": null,
      "outputs": [
        {
          "output_type": "stream",
          "name": "stdout",
          "text": [
            "[0, 1, 2, 3, 4, 5]\n"
          ]
        }
      ]
    },
    {
      "cell_type": "markdown",
      "source": [
        "Time Complexity : O(n)\n",
        "Space Complexity : O(n)"
      ],
      "metadata": {
        "id": "StiQsL6rV6Ig"
      }
    },
    {
      "cell_type": "markdown",
      "source": [
        "*Insert at End*"
      ],
      "metadata": {
        "id": "fq7zTrkYWPQV"
      }
    },
    {
      "cell_type": "code",
      "source": [
        "def insertending(arr,ele):\n",
        "  arr=arr+[ele]\n",
        "  return arr\n",
        "\n",
        "arr=[1,2,3,4,5]\n",
        "ele=6\n",
        "print(insertending(arr,ele))"
      ],
      "metadata": {
        "colab": {
          "base_uri": "https://localhost:8080/"
        },
        "id": "PSA9uEUuWUdU",
        "outputId": "191253a3-4686-4b81-d58c-eb30d6e38380"
      },
      "execution_count": null,
      "outputs": [
        {
          "output_type": "stream",
          "name": "stdout",
          "text": [
            "[1, 2, 3, 4, 5, 6]\n"
          ]
        }
      ]
    },
    {
      "cell_type": "markdown",
      "source": [
        "Time Complexity : O(n),<br>\n",
        "Space Complexity : O(n)"
      ],
      "metadata": {
        "id": "uOVUcWVyWqgu"
      }
    },
    {
      "cell_type": "markdown",
      "source": [
        "*Insert at postion*"
      ],
      "metadata": {
        "id": "tpjoohzIWvXN"
      }
    },
    {
      "cell_type": "code",
      "source": [
        "def insertatpos(arr,ele,pos):\n",
        "  arr.append(None)\n",
        "  for i in range(len(arr)-1,pos,-1):\n",
        "    arr[i]=arr[i-1]\n",
        "  arr[pos]=ele\n",
        "  return arr\n",
        "\n",
        "ele=9\n",
        "pos=3\n",
        "arr=[1,2,3,4,5,6]\n",
        "print(insertatpos(arr,ele,pos))"
      ],
      "metadata": {
        "colab": {
          "base_uri": "https://localhost:8080/"
        },
        "id": "ZV0eux0BYBEr",
        "outputId": "4d2c89db-9ab4-42c6-9e66-f67a382921e8"
      },
      "execution_count": null,
      "outputs": [
        {
          "output_type": "stream",
          "name": "stdout",
          "text": [
            "[1, 2, 3, 9, 4, 5, 6]\n"
          ]
        }
      ]
    },
    {
      "cell_type": "markdown",
      "source": [
        "Time Complexity : O(n),<br>\n",
        "Space Complexity : O(1)"
      ],
      "metadata": {
        "id": "HdnpWqrBaW_i"
      }
    },
    {
      "cell_type": "markdown",
      "source": [
        "# **Find all repeating elements in an array**\n",
        "**Problem Statement**: *Find all the repeating elements present in an array.*\n",
        "Examples:\n",
        "\n",
        "Example 1:<br>\n",
        "Input:<br>\n",
        "Arr[] = [1,1,2,3,4,4,5,2]<br>\n",
        "Output:\n",
        " 1,2,4<br>\n",
        "Explanation:<br>\n",
        " 1,2 and 4 are the elements which are occurring more than once.<br>\n",
        "\n",
        "Example 2:<br>\n",
        "Input:<br>\n",
        " Arr[] = [1,1,0]<br>\n",
        "Output:\n",
        " 1<br>\n",
        "Explanation:<br>\n",
        " Only 1 is occurring more than once in the given array.\n"
      ],
      "metadata": {
        "id": "9_j6s2AHav5U"
      }
    },
    {
      "cell_type": "code",
      "source": [
        "def repele(arr):\n",
        "  arr.sort()\n",
        "  for i in range(len(arr)-1):\n",
        "    if arr[i]==arr[i+1]:\n",
        "      print(arr[i],end=\" \")\n",
        "\n",
        "\n",
        "arr=[1,1,2,3,4,4,5,5,6,7,8,8]\n",
        "print(repele(arr))\n"
      ],
      "metadata": {
        "id": "LYOeQoATbFaV",
        "colab": {
          "base_uri": "https://localhost:8080/"
        },
        "outputId": "591ba8b3-02e5-4bc4-b01d-5ecec691e4f4"
      },
      "execution_count": null,
      "outputs": [
        {
          "output_type": "stream",
          "name": "stdout",
          "text": [
            "1 4 5 8 None\n"
          ]
        }
      ]
    },
    {
      "cell_type": "code",
      "source": [
        "def find_repeating_elements(arr):\n",
        "    arr.sort()\n",
        "\n",
        "\n",
        "    for i in range(len(arr) - 1):\n",
        "        if arr[i] == arr[i + 1]:\n",
        "            print(arr[i], end=\" \")\n",
        "\n",
        "def main():\n",
        "    arr = [1, 1, 2, 3, 4, 4, 5, 2]\n",
        "    find_repeating_elements(arr)\n",
        "\n",
        "if __name__ == \"__main__\":\n",
        "    main()\n"
      ],
      "metadata": {
        "colab": {
          "base_uri": "https://localhost:8080/"
        },
        "id": "yrvJK9CkRuDa",
        "outputId": "6a9c0d41-c0cd-4a61-b4e5-6626c3b09bb1"
      },
      "execution_count": null,
      "outputs": [
        {
          "output_type": "stream",
          "name": "stdout",
          "text": [
            "1 2 4 None\n"
          ]
        }
      ]
    },
    {
      "cell_type": "markdown",
      "source": [
        "# **Find all the non-repeating elements in an array**<br>\n",
        "Problem Statement: Find all the non-repeating elements for a given array. Outputs can be in any order.<br>\n",
        "\n",
        "Examples:\n",
        "\n",
        "Example 1:<br>\n",
        "Input:\n",
        " Nums = [1,2,-1,1,3,1]<br>\n",
        "Output:\n",
        " 2,-1,3<br>\n",
        "Explanation:<br>\n",
        " 1 is the only element in the given array which occurs thrice in the array. -1,2,3 occurs only once and hence, these are non-repeating elements of the given array.<br>\n",
        "\n",
        "Example 2:<br>\n",
        "Input:\n",
        " Nums = [1,2,3]<br>\n",
        "Output:\n",
        " 1,2,3<br>\n",
        "Explanation:\n",
        " All elements present in the array occur once. Hence, every element is non-repeating.\n"
      ],
      "metadata": {
        "id": "ctTw19FqSsAJ"
      }
    },
    {
      "cell_type": "code",
      "source": [
        "#USNING DICTONARY\n",
        "def nonrep(nums):\n",
        "  dict={}\n",
        "  for i in nums:\n",
        "    if i in dict:\n",
        "      dict[i]+=1\n",
        "    else:\n",
        "      dict[i]=1\n",
        "  nonrepele=[]\n",
        "  for i, count in dict.items():\n",
        "    if count==1:\n",
        "      nonrepele.append(i)\n",
        "  return nonrepele\n",
        "\n",
        "nums1 = [1, 2, -1, 1, 3, 1]\n",
        "output= nonrep(nums1)\n",
        "print(output)"
      ],
      "metadata": {
        "colab": {
          "base_uri": "https://localhost:8080/"
        },
        "id": "s0jmnJ4GS6nC",
        "outputId": "0d13adcd-9d1b-4ede-c0b9-c1d910c9451f"
      },
      "execution_count": null,
      "outputs": [
        {
          "output_type": "stream",
          "name": "stdout",
          "text": [
            "[2, -1, 3]\n"
          ]
        }
      ]
    },
    {
      "cell_type": "code",
      "source": [
        "# USING COUNTER\n",
        "from collections import Counter\n",
        "\n",
        "def find_non_repeating_elements(nums):\n",
        "\n",
        "    count = Counter(nums)\n",
        "\n",
        "    non_repeating = []\n",
        "\n",
        "    for num in nums:\n",
        "        if count[num] == 1:\n",
        "            non_repeating.append(num)\n",
        "\n",
        "    return non_repeating\n",
        "\n",
        "nums1 = [1, 2, -1, 1, 3, 1]\n",
        "output1 = find_non_repeating_elements(nums1)\n",
        "print(\"Output for Example 1:\", output1)\n"
      ],
      "metadata": {
        "colab": {
          "base_uri": "https://localhost:8080/"
        },
        "id": "VEx-JhbbXdzg",
        "outputId": "79ae2112-fc0e-4a31-ae5c-c4234edd0f83"
      },
      "execution_count": null,
      "outputs": [
        {
          "output_type": "stream",
          "name": "stdout",
          "text": [
            "Output for Example 1: [2, -1, 3]\n"
          ]
        }
      ]
    },
    {
      "cell_type": "code",
      "source": [
        "def nonrep(nums):\n",
        "  nums.sort()\n",
        "  if nums[0] != nums[1]:\n",
        "    print(nums[0],end=\" \")\n",
        "\n",
        "  for i in range(1,len(nums)-1):\n",
        "    if nums[i-1] != nums[i] and nums[i] != nums[i+1]:\n",
        "      print(nums[i],end=\" \")\n",
        "\n",
        "  if nums[len(nums)-2] != nums[len(nums) - 1]:\n",
        "    print(nums[len(nums)-1],end=\" \")\n",
        "\n",
        "nums1 = [1, 2, -1, 1, 3, 1]\n",
        "output1 = nonrep(nums1)\n",
        "output1\n"
      ],
      "metadata": {
        "colab": {
          "base_uri": "https://localhost:8080/"
        },
        "id": "CmKBoZ6nTGle",
        "outputId": "8a0e47dd-47de-45db-c0fd-a4114d32c15b"
      },
      "execution_count": null,
      "outputs": [
        {
          "output_type": "stream",
          "name": "stdout",
          "text": [
            "-1 2 3 "
          ]
        }
      ]
    },
    {
      "cell_type": "markdown",
      "source": [
        "\n",
        "# **Find all Symmetric Pairs in the array of pairs**\n",
        "\n",
        "***Problem Statement: Given an array of pairs, find all the symmetric pairs in the array.***\n",
        "\n",
        "Examples:<br>\n",
        "\n",
        "Example 1:<br>\n",
        "Input: (1,2),(2,1),(3,4),(4,5),(5,4)<br>\n",
        "Output: (2,1) (5,4)<br>\n",
        "Explanation:<br> Since (1,2) and (2,1) are symmetric pairs and (4,5) and (5,4) are symmetric pairs.<br>\n",
        "\n",
        "Example 2:<br>\n",
        "Input: (1,5),(2,3),(4,2),(5,1),(2,4)<br>\n",
        "Output: (2,4) (5,1)<br>\n",
        "Explanation:<br> Since (1,5) and (2,4) are symmetric pairs and (5,1) and (4,2) are symmetric pairs."
      ],
      "metadata": {
        "id": "u9RmlRERuqYy"
      }
    },
    {
      "cell_type": "code",
      "source": [
        "def findpair(arr,row):\n",
        "  h=dict()\n",
        "  for i in range(row):\n",
        "    first=arr[i][0]\n",
        "    second=arr[i][1]\n",
        "    if second in h.keys() and h[second] == first:\n",
        "      print(\"(\",first,\",\",second,\")\")\n",
        "    else:\n",
        "      h[first]=second\n",
        "arr=[[1,2],[2,1],[3,4],[4,5],[5,4]]\n",
        "findpair(arr,len(arr))"
      ],
      "metadata": {
        "id": "jGouxGCXbsGP",
        "colab": {
          "base_uri": "https://localhost:8080/"
        },
        "outputId": "e4e50d54-3d8a-4da4-945f-6c2abf6c59be"
      },
      "execution_count": null,
      "outputs": [
        {
          "output_type": "stream",
          "name": "stdout",
          "text": [
            "( 2 , 1 )\n",
            "( 5 , 4 )\n"
          ]
        }
      ]
    },
    {
      "cell_type": "markdown",
      "source": [
        "# **Maximum Product Subarray in an Array**\n",
        "***Problem Statement: Given an array that contains both negative and positive integers, find the maximum product subarray.***\n",
        "\n",
        "Examples<br>\n",
        "Example 1:<br>\n",
        "Input:<br>\n",
        " Nums = [1,2,3,4,5,0]<br>\n",
        "Output:\n",
        " 120<br>\n",
        "Explanation:<br>\n",
        " In the given array, we can see 1×2×3×4×5 gives maximum product value.\n",
        "\n",
        "\n",
        "Example 2:<br>\n",
        "Input:<br>\n",
        " Nums = [1,2,-3,0,-4,-5]<br>\n",
        "Output:\n",
        " 20<br>\n",
        "Explanation:<br>\n",
        " In the given array, we can see (-4)×(-5) gives maximum product value."
      ],
      "metadata": {
        "id": "9ms9Vkm31Dpl"
      }
    },
    {
      "cell_type": "code",
      "source": [
        "def maxproduct(nums):\n",
        "  if not nums:\n",
        "    return 0\n",
        "\n",
        "  max_prod=[0]\n",
        "  min_prod=[0]\n",
        "  result=[0]\n",
        "  for i in range(1, len(nums)):\n",
        "      temp_max = max(nums[i], max_prod * nums[i], min_prod * nums[i])\n",
        "      temp_min = min(nums[i], max_prod * nums[i], min_prod * nums[i])\n",
        "\n",
        "      max_prod = max(temp_max, temp_min, nums[i])\n",
        "      min_prod = min(temp_max, temp_min, nums[i])\n",
        "\n",
        "\n",
        "      result = max(result, max_prod)\n",
        "\n",
        "  return result\n",
        "nums1 = [1, 2, 3, 4, 5, 0]\n",
        "maxproduct(nums1)\n"
      ],
      "metadata": {
        "colab": {
          "base_uri": "https://localhost:8080/",
          "height": 360
        },
        "id": "Y-lXBeqs1CEz",
        "outputId": "a3f51b97-8bec-4523-c15e-cbfe7eacef91"
      },
      "execution_count": null,
      "outputs": [
        {
          "output_type": "error",
          "ename": "TypeError",
          "evalue": "ignored",
          "traceback": [
            "\u001b[0;31m---------------------------------------------------------------------------\u001b[0m",
            "\u001b[0;31mTypeError\u001b[0m                                 Traceback (most recent call last)",
            "\u001b[0;32m<ipython-input-10-c7b7b068bb43>\u001b[0m in \u001b[0;36m<cell line: 20>\u001b[0;34m()\u001b[0m\n\u001b[1;32m     18\u001b[0m   \u001b[0;32mreturn\u001b[0m \u001b[0mresult\u001b[0m\u001b[0;34m\u001b[0m\u001b[0;34m\u001b[0m\u001b[0m\n\u001b[1;32m     19\u001b[0m \u001b[0mnums1\u001b[0m \u001b[0;34m=\u001b[0m \u001b[0;34m[\u001b[0m\u001b[0;36m1\u001b[0m\u001b[0;34m,\u001b[0m \u001b[0;36m2\u001b[0m\u001b[0;34m,\u001b[0m \u001b[0;36m3\u001b[0m\u001b[0;34m,\u001b[0m \u001b[0;36m4\u001b[0m\u001b[0;34m,\u001b[0m \u001b[0;36m5\u001b[0m\u001b[0;34m,\u001b[0m \u001b[0;36m0\u001b[0m\u001b[0;34m]\u001b[0m\u001b[0;34m\u001b[0m\u001b[0;34m\u001b[0m\u001b[0m\n\u001b[0;32m---> 20\u001b[0;31m \u001b[0mmaxproduct\u001b[0m\u001b[0;34m(\u001b[0m\u001b[0mnums1\u001b[0m\u001b[0;34m)\u001b[0m\u001b[0;34m\u001b[0m\u001b[0;34m\u001b[0m\u001b[0m\n\u001b[0m\u001b[1;32m     21\u001b[0m \u001b[0;34m\u001b[0m\u001b[0m\n",
            "\u001b[0;32m<ipython-input-10-c7b7b068bb43>\u001b[0m in \u001b[0;36mmaxproduct\u001b[0;34m(nums)\u001b[0m\n\u001b[1;32m      7\u001b[0m   \u001b[0mresult\u001b[0m\u001b[0;34m=\u001b[0m\u001b[0;34m[\u001b[0m\u001b[0;36m0\u001b[0m\u001b[0;34m]\u001b[0m\u001b[0;34m\u001b[0m\u001b[0;34m\u001b[0m\u001b[0m\n\u001b[1;32m      8\u001b[0m   \u001b[0;32mfor\u001b[0m \u001b[0mi\u001b[0m \u001b[0;32min\u001b[0m \u001b[0mrange\u001b[0m\u001b[0;34m(\u001b[0m\u001b[0;36m1\u001b[0m\u001b[0;34m,\u001b[0m \u001b[0mlen\u001b[0m\u001b[0;34m(\u001b[0m\u001b[0mnums\u001b[0m\u001b[0;34m)\u001b[0m\u001b[0;34m)\u001b[0m\u001b[0;34m:\u001b[0m\u001b[0;34m\u001b[0m\u001b[0;34m\u001b[0m\u001b[0m\n\u001b[0;32m----> 9\u001b[0;31m       \u001b[0mtemp_max\u001b[0m \u001b[0;34m=\u001b[0m \u001b[0mmax\u001b[0m\u001b[0;34m(\u001b[0m\u001b[0mnums\u001b[0m\u001b[0;34m[\u001b[0m\u001b[0mi\u001b[0m\u001b[0;34m]\u001b[0m\u001b[0;34m,\u001b[0m \u001b[0mmax_prod\u001b[0m \u001b[0;34m*\u001b[0m \u001b[0mnums\u001b[0m\u001b[0;34m[\u001b[0m\u001b[0mi\u001b[0m\u001b[0;34m]\u001b[0m\u001b[0;34m,\u001b[0m \u001b[0mmin_prod\u001b[0m \u001b[0;34m*\u001b[0m \u001b[0mnums\u001b[0m\u001b[0;34m[\u001b[0m\u001b[0mi\u001b[0m\u001b[0;34m]\u001b[0m\u001b[0;34m)\u001b[0m\u001b[0;34m\u001b[0m\u001b[0;34m\u001b[0m\u001b[0m\n\u001b[0m\u001b[1;32m     10\u001b[0m       \u001b[0mtemp_min\u001b[0m \u001b[0;34m=\u001b[0m \u001b[0mmin\u001b[0m\u001b[0;34m(\u001b[0m\u001b[0mnums\u001b[0m\u001b[0;34m[\u001b[0m\u001b[0mi\u001b[0m\u001b[0;34m]\u001b[0m\u001b[0;34m,\u001b[0m \u001b[0mmax_prod\u001b[0m \u001b[0;34m*\u001b[0m \u001b[0mnums\u001b[0m\u001b[0;34m[\u001b[0m\u001b[0mi\u001b[0m\u001b[0;34m]\u001b[0m\u001b[0;34m,\u001b[0m \u001b[0mmin_prod\u001b[0m \u001b[0;34m*\u001b[0m \u001b[0mnums\u001b[0m\u001b[0;34m[\u001b[0m\u001b[0mi\u001b[0m\u001b[0;34m]\u001b[0m\u001b[0;34m)\u001b[0m\u001b[0;34m\u001b[0m\u001b[0;34m\u001b[0m\u001b[0m\n\u001b[1;32m     11\u001b[0m \u001b[0;34m\u001b[0m\u001b[0m\n",
            "\u001b[0;31mTypeError\u001b[0m: '>' not supported between instances of 'list' and 'int'"
          ]
        }
      ]
    },
    {
      "cell_type": "code",
      "source": [],
      "metadata": {
        "id": "05_srD4Eb6of"
      },
      "execution_count": null,
      "outputs": []
    }
  ]
}