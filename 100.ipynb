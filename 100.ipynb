{
 "cells": [
  {
   "cell_type": "markdown",
   "metadata": {},
   "source": [
    "#11\n",
    "string=input(\"enter line\").lower()\n",
    "for i in \"aeiou\":\n",
    "    print(i,\"---->\",string.count(i))"
   ]
  },
  {
   "cell_type": "code",
   "execution_count": 3,
   "metadata": {},
   "outputs": [
    {
     "name": "stdout",
     "output_type": "stream",
     "text": [
      "[1, 43, 56, 57, 242, 6765]\n",
      "242\n"
     ]
    }
   ],
   "source": [
    "#second element of array\n",
    "l1=[1,56,242,6765,43,57]\n",
    "\n",
    "l1.sort()\n",
    "print(l1)\n",
    "print(l1[-2])"
   ]
  },
  {
   "cell_type": "code",
   "execution_count": 4,
   "metadata": {},
   "outputs": [
    {
     "name": "stdout",
     "output_type": "stream",
     "text": [
      "242\n"
     ]
    }
   ],
   "source": [
    "\n",
    "arr=[1,56,242,6765,43,57]\n",
    "arr1=arr.sort()\n",
    "print(arr[-2])"
   ]
  },
  {
   "cell_type": "code",
   "execution_count": 5,
   "metadata": {},
   "outputs": [
    {
     "name": "stdout",
     "output_type": "stream",
     "text": [
      "enter 5 element in list\n"
     ]
    },
    {
     "ename": "ValueError",
     "evalue": "invalid literal for int() with base 10: ''",
     "output_type": "error",
     "traceback": [
      "\u001b[1;31m---------------------------------------------------------------------------\u001b[0m",
      "\u001b[1;31mValueError\u001b[0m                                Traceback (most recent call last)",
      "Cell \u001b[1;32mIn[5], line 5\u001b[0m\n\u001b[0;32m      3\u001b[0m \u001b[39mprint\u001b[39m(\u001b[39m\"\u001b[39m\u001b[39menter 5 element in list\u001b[39m\u001b[39m\"\u001b[39m)\n\u001b[0;32m      4\u001b[0m \u001b[39mfor\u001b[39;00m i \u001b[39min\u001b[39;00m \u001b[39mrange\u001b[39m(\u001b[39m5\u001b[39m):\n\u001b[1;32m----> 5\u001b[0m     val\u001b[39m=\u001b[39m\u001b[39mint\u001b[39;49m(\u001b[39minput\u001b[39;49m())\n\u001b[0;32m      6\u001b[0m     num\u001b[39m.\u001b[39mappend(val)\n\u001b[0;32m      8\u001b[0m \u001b[39mprint\u001b[39m(num)\n",
      "\u001b[1;31mValueError\u001b[0m: invalid literal for int() with base 10: ''"
     ]
    }
   ],
   "source": [
    "#write a program to find sum all even numbers in array\n",
    "num=[]\n",
    "print(\"enter 5 element in list\")\n",
    "for i in range(5):\n",
    "    val=int(input())\n",
    "    num.append(val)\n",
    "    \n",
    "print(num)\n",
    "sum=0\n",
    "\n",
    "for i in range(5):\n",
    "    if num[i]%2==0:\n",
    "        sum+=num[i]\n",
    "print(sum)"
   ]
  },
  {
   "cell_type": "code",
   "execution_count": null,
   "metadata": {},
   "outputs": [
    {
     "name": "stdout",
     "output_type": "stream",
     "text": [
      "not leap year\n"
     ]
    }
   ],
   "source": [
    "#Write a program to check if a year is a leap year.\n",
    "year=int(input(\"Enter a year\"))\n",
    "\n",
    "if year%4==0 and year%100==0:\n",
    "    print(\"leap year\")\n",
    "else:\n",
    "    print(\"not leap year\")"
   ]
  },
  {
   "cell_type": "code",
   "execution_count": null,
   "metadata": {},
   "outputs": [
    {
     "name": "stdout",
     "output_type": "stream",
     "text": [
      "12\n",
      "factorial 479001600\n"
     ]
    }
   ],
   "source": [
    "#Write a program to calculate the factorial of a number using recursion.\n",
    "def factorial(n):\n",
    "    if n==1:\n",
    "        return 1\n",
    "    else:\n",
    "        return(n* factorial(n-1))\n",
    "num=int(input(\"Enter a number\"))\n",
    "print(num)\n",
    "print(\"factorial\",factorial(num))"
   ]
  },
  {
   "cell_type": "code",
   "execution_count": null,
   "metadata": {},
   "outputs": [
    {
     "name": "stdout",
     "output_type": "stream",
     "text": [
      "6\n"
     ]
    }
   ],
   "source": [
    "#Write a program to find the length of a string.\n",
    "str1=\"sachin\"\n",
    "print(len(str1))"
   ]
  },
  {
   "cell_type": "code",
   "execution_count": null,
   "metadata": {},
   "outputs": [
    {
     "name": "stdout",
     "output_type": "stream",
     "text": [
      "2\n"
     ]
    }
   ],
   "source": [
    "str2=\"sachin\"\n",
    "vowels=\"aieou\"\n",
    "counter=0\n",
    "for i in list(str2):\n",
    "    if i in vowels:\n",
    "        counter+=1\n",
    "print(counter)"
   ]
  },
  {
   "cell_type": "code",
   "execution_count": 5,
   "metadata": {},
   "outputs": [
    {
     "name": "stdout",
     "output_type": "stream",
     "text": [
      "GCD is 10\n"
     ]
    }
   ],
   "source": [
    "#Write a program to find the GCD (Greatest Common Divisor) of two numbers\n",
    "def GCD(num1,num2):\n",
    "    if num1==num2:\n",
    "        return num1\n",
    "    if num1>num2:\n",
    "        return GCD(num1-num2,num2)\n",
    "    else:\n",
    "        return GCD(num1,num2-num1)\n",
    "\n",
    "num1=int(input(\"enter num1\"))\n",
    "num2=int(input(\"enter num2\"))\n",
    "print(\"GCD is\",GCD(num1,num2))\n",
    "\n",
    "    \n"
   ]
  },
  {
   "cell_type": "code",
   "execution_count": 4,
   "metadata": {},
   "outputs": [
    {
     "name": "stdout",
     "output_type": "stream",
     "text": [
      "10\n"
     ]
    }
   ],
   "source": [
    "#gcd using loops\n",
    "def GCD(x,y):\n",
    "    if x>y:\n",
    "        small = x\n",
    "    else:\n",
    "        small = y\n",
    "    for i in range(1,small+1):\n",
    "        if((x%i==0) and (y%i==0)):\n",
    "            gcd=i\n",
    "    return gcd\n",
    "\n",
    "    \n",
    "x=20\n",
    "y=30\n",
    "print(GCD(x,y))"
   ]
  },
  {
   "cell_type": "code",
   "execution_count": null,
   "metadata": {},
   "outputs": [
    {
     "name": "stdout",
     "output_type": "stream",
     "text": [
      "[2, 4, 44, 4, 4, 3]\n",
      "[2, 3, 4, 44]\n"
     ]
    }
   ],
   "source": [
    "#Write a program to remove duplicate elements from an array.\n",
    "arr=[]\n",
    "for i in range(6):\n",
    "    num1=int(input(\"enter number\"))\n",
    "    arr.append(num1)\n",
    "print(arr)\n",
    "a=list(set(arr))\n",
    "print(a)\n"
   ]
  },
  {
   "cell_type": "code",
   "execution_count": null,
   "metadata": {},
   "outputs": [
    {
     "name": "stdout",
     "output_type": "stream",
     "text": [
      "[1, 3, 4]\n"
     ]
    }
   ],
   "source": [
    "arr2=list(set(arr))\n",
    "print(arr2)"
   ]
  },
  {
   "cell_type": "code",
   "execution_count": null,
   "metadata": {},
   "outputs": [
    {
     "name": "stdout",
     "output_type": "stream",
     "text": [
      "[1, 2, 3, 4]\n"
     ]
    }
   ],
   "source": [
    "arr=[1,1,1,2,3,4]\n",
    "dup=[]\n",
    "for i in arr:\n",
    "    if (i not in dup):\n",
    "        dup.append(i)\n",
    "print(dup)"
   ]
  },
  {
   "cell_type": "code",
   "execution_count": null,
   "metadata": {},
   "outputs": [
    {
     "name": "stdout",
     "output_type": "stream",
     "text": [
      " sting is palindrom\n"
     ]
    }
   ],
   "source": [
    "#Write a program to check if a string is a palindrome without using any built-in functions\n",
    "\n",
    "string1=input()\n",
    "rstring=(string1[::-1])\n",
    "if string1==rstring:\n",
    "    print(\" sting is palindrom\")\n",
    "else:\n",
    "    print(\"not palindrom\")"
   ]
  },
  {
   "cell_type": "code",
   "execution_count": null,
   "metadata": {},
   "outputs": [
    {
     "name": "stdout",
     "output_type": "stream",
     "text": [
      "16\n"
     ]
    }
   ],
   "source": [
    "#Write a program to find the sum of the digits of a number.\n",
    "\n",
    "n=input()\n",
    "sum=0\n",
    "for i in str(n):\n",
    "    sum+=int(i)\n",
    "print(sum)"
   ]
  },
  {
   "cell_type": "code",
   "execution_count": null,
   "metadata": {},
   "outputs": [
    {
     "name": "stdout",
     "output_type": "stream",
     "text": [
      "3.5\n"
     ]
    }
   ],
   "source": [
    "#Write a program to find the average of elements in an array\n",
    "\n",
    "arr=[1,2,3,4,5,6]\n",
    "n=len(arr)\n",
    "\n",
    "sum=0\n",
    "for i in range(n):\n",
    "    sum += arr[i]\n",
    "print(sum/n)\n",
    "\n",
    "\n"
   ]
  },
  {
   "cell_type": "code",
   "execution_count": null,
   "metadata": {},
   "outputs": [
    {
     "name": "stdout",
     "output_type": "stream",
     "text": [
      "the no is prefect\n"
     ]
    }
   ],
   "source": [
    "#Write a program to check if a number is a perfect number.\n",
    "\n",
    "def perfectno(num):\n",
    "    sum=0\n",
    "    for i in range(1,num):\n",
    "        if num%i==0:\n",
    "            sum=sum+i\n",
    "    if (sum==num):\n",
    "        print(\"the no is prefect\")\n",
    "    else:\n",
    "        print(\"not perfect\")\n",
    "perfectno(6)"
   ]
  },
  {
   "cell_type": "code",
   "execution_count": null,
   "metadata": {},
   "outputs": [
    {
     "name": "stdout",
     "output_type": "stream",
     "text": [
      "[1, 2, 4, 6, 9]\n"
     ]
    }
   ],
   "source": [
    "#Write a program to sort elements in an array in ascending order.\n",
    "l=[4,6,9,2,1]\n",
    "sort1=sorted(l)\n",
    "print(sort1)"
   ]
  },
  {
   "cell_type": "code",
   "execution_count": null,
   "metadata": {},
   "outputs": [
    {
     "name": "stdout",
     "output_type": "stream",
     "text": [
      " * \n",
      " *  * \n",
      " *  *  * \n",
      " *  *  *  * \n",
      " *  *  *  *  * \n",
      " *  *  *  *  *  * \n",
      " *  *  *  *  *  *  * \n",
      " *  *  *  *  *  *  *  * \n"
     ]
    },
    {
     "data": {
      "text/plain": [
       "'for i in range(7,0,-1):\\n    print(\" * \"*i)'"
      ]
     },
     "execution_count": 18,
     "metadata": {},
     "output_type": "execute_result"
    }
   ],
   "source": [
    "#pattern\n",
    "for i in range(1,9,1):\n",
    "    print(\" * \"*i)\n",
    "'''for i in range(7,0,-1):\n",
    "    print(\" * \"*i)'''"
   ]
  },
  {
   "cell_type": "code",
   "execution_count": null,
   "metadata": {},
   "outputs": [
    {
     "name": "stdout",
     "output_type": "stream",
     "text": [
      "33\n"
     ]
    }
   ],
   "source": [
    "# Write a program to find the maximum of three numbers.\n",
    "\n",
    "n1=12\n",
    "n2=13\n",
    "n3=33\n",
    "\n",
    "if n1<n2 and n3<n2:\n",
    "    print(n2)\n",
    "elif n1<n3 and n2<n3:\n",
    "    print(n3)\n",
    "else:\n",
    "    print(n1)"
   ]
  },
  {
   "cell_type": "code",
   "execution_count": null,
   "metadata": {},
   "outputs": [
    {
     "name": "stdout",
     "output_type": "stream",
     "text": [
      "9 armstrong number\n"
     ]
    }
   ],
   "source": [
    "# Write a program to check if a number is an Armstrong number.\n",
    "n=int(input(\"Enter a number\"))\n",
    "s=n\n",
    "b=len(str(n))\n",
    "sum1=0\n",
    "while n!=0:\n",
    "    r=n%10\n",
    "    sum1=sum1+(r**b)\n",
    "    n=n//10\n",
    "\n",
    "if s==sum1:\n",
    "    print(s,\"armstrong number\")\n",
    "else:\n",
    "    print(s,\"not armstrong number\")\n"
   ]
  },
  {
   "cell_type": "code",
   "execution_count": null,
   "metadata": {},
   "outputs": [
    {
     "name": "stdout",
     "output_type": "stream",
     "text": [
      "0\n",
      "1\n",
      "1\n",
      "2\n",
      "3\n",
      "5\n",
      "8\n"
     ]
    }
   ],
   "source": [
    "#Write a program to find the Fibonacci series up to a given number.\n",
    "n=int(input(\"Enter a length of number\"))\n",
    "a=0\n",
    "b=1\n",
    "print(a)\n",
    "print(b)\n",
    "for i in range(0,n-1):\n",
    "    sum=a+b\n",
    "    a=b\n",
    "    b=sum\n",
    "    print(sum)"
   ]
  },
  {
   "cell_type": "code",
   "execution_count": null,
   "metadata": {},
   "outputs": [
    {
     "name": "stdout",
     "output_type": "stream",
     "text": [
      "7654\n"
     ]
    }
   ],
   "source": [
    "#Write a program to reverse a number.\n",
    "\n",
    "no=int(input(\"enter a number\"))\n",
    "rno=0\n",
    "\n",
    "while(no>0):\n",
    "    rim=no%10\n",
    "    rno=(rno*10)+rim\n",
    "    no=no//10\n",
    "print(rno)"
   ]
  },
  {
   "cell_type": "code",
   "execution_count": null,
   "metadata": {},
   "outputs": [
    {
     "name": "stdout",
     "output_type": "stream",
     "text": [
      "544321\n"
     ]
    }
   ],
   "source": [
    "no=123445\n",
    "rno=0\n",
    "while(no>0):\n",
    "    rim=no%10\n",
    "    rno=(rno*10)+rim\n",
    "    no=no//10\n",
    "print(rno)"
   ]
  },
  {
   "cell_type": "code",
   "execution_count": null,
   "metadata": {},
   "outputs": [
    {
     "name": "stdout",
     "output_type": "stream",
     "text": [
      "jadhav ---> 1\n",
      "sachin ---> 1\n",
      "Total lenth 2\n"
     ]
    }
   ],
   "source": [
    "#Write a program to find the number of words in a string.\n",
    "word=input(\"enter word\")\n",
    "wordlist=word.split()\n",
    "wordset=set(wordlist)\n",
    "for i in sorted(wordset):\n",
    "    print(i,\"--->\",wordlist.count(i))\n",
    "s=len(wordlist)\n",
    "print(\"Total lenth:\",s)\n",
    "    \n"
   ]
  },
  {
   "cell_type": "code",
   "execution_count": null,
   "metadata": {},
   "outputs": [
    {
     "name": "stdout",
     "output_type": "stream",
     "text": [
      "original string is :saFDSGadfg1\n",
      "does string conatins any digits ? : True\n"
     ]
    }
   ],
   "source": [
    "#Write a program to check if a string contains only digits.\n",
    "string1=input(\"enter a string\")\n",
    "print(\"original string is :\"+str(string1))\n",
    "res=any(chr.isdigit() for chr in string1)\n",
    "print(\"does string conatins any digits ? : \"+ str(res))"
   ]
  },
  {
   "cell_type": "code",
   "execution_count": null,
   "metadata": {},
   "outputs": [
    {
     "name": "stdout",
     "output_type": "stream",
     "text": [
      "no is 60\n",
      "sum of the the prime till  60 is : 438\n"
     ]
    }
   ],
   "source": [
    "#Write a program to find the sum of all prime numbers up to a given number.\n",
    "#last no\n",
    "'''declare sum as 0\n",
    "initialize number loop from 2 to lastno+1\n",
    "i=2\n",
    "initialize loop 2 number \n",
    "check if no%i==0\n",
    "i=no \n",
    "break\n",
    "\n",
    "if i is not nosum sum+no\n",
    "print(sum)\n",
    " '''\n",
    "\n",
    "lno=int(input(\"enter number \"))\n",
    "print(\"no is\",lno)\n",
    "sum=0\n",
    "for number in range(2,lno+1):\n",
    "    i=2\n",
    "    for i in range(2,number):\n",
    "        if (int(number % i)==0):\n",
    "            i=number\n",
    "            break\n",
    "    if i is not number:\n",
    "        sum=sum + number\n",
    "print(\"sum of the the prime till \",lno ,\"is :\",sum)"
   ]
  },
  {
   "cell_type": "code",
   "execution_count": null,
   "metadata": {},
   "outputs": [
    {
     "name": "stdout",
     "output_type": "stream",
     "text": [
      "True\n"
     ]
    }
   ],
   "source": [
    "#Write a program to check if a number is a perfect square\n",
    "\n",
    "from math import sqrt\n",
    "\n",
    "def isPerfectSqrt(n):\n",
    "    if n>=0:\n",
    "        sr=int(sqrt(n))\n",
    "        return(sr*sr)==n\n",
    "    return False\n",
    "n=int(input(\"enter a number\"))\n",
    "if isPerfectSqrt(n):\n",
    "    print(\"True\")\n",
    "else:\n",
    "    print(\"False\")"
   ]
  },
  {
   "cell_type": "code",
   "execution_count": null,
   "metadata": {},
   "outputs": [
    {
     "data": {
      "text/plain": [
       "'Write A Program To Convert A String To Uppercase'"
      ]
     },
     "execution_count": 3,
     "metadata": {},
     "output_type": "execute_result"
    }
   ],
   "source": [
    "string1='Write a program to convert a string to uppercase'\n",
    "string1.title()"
   ]
  },
  {
   "cell_type": "code",
   "execution_count": null,
   "metadata": {},
   "outputs": [
    {
     "name": "stdout",
     "output_type": "stream",
     "text": [
      "[2, 3, 4, 5, 6]\n"
     ]
    }
   ],
   "source": [
    "#Write a program to find the intersection of two arrays.\n",
    "arr1=set([1,2,3,4,5,6])\n",
    "arr2=set([2,3,4,5,6,7,8,9])\n",
    "\"\"\"narr1=set(arr1)\n",
    "narr2=set(arr2)\"\"\"\n",
    "intersect=list(arr1&arr2)\n",
    "print(intersect)"
   ]
  },
  {
   "cell_type": "code",
   "execution_count": null,
   "metadata": {},
   "outputs": [
    {
     "name": "stdout",
     "output_type": "stream",
     "text": [
      "total count is : 6\n"
     ]
    }
   ],
   "source": [
    "String=\"Sachin\"\n",
    "count=0\n",
    "for i in range(0,len(String)):\n",
    "    if String:\n",
    "        count+=1\n",
    "\n",
    "print(\"total count is : \"+ str(count))"
   ]
  },
  {
   "cell_type": "code",
   "execution_count": null,
   "metadata": {},
   "outputs": [
    {
     "name": "stdout",
     "output_type": "stream",
     "text": [
      "[5, 4, 3, 2, 1]\n"
     ]
    }
   ],
   "source": [
    "#Write a program to find the reverse of an array.\n",
    "arr=[1,2,3,4,5]\n",
    "rarr=arr[::-1]\n",
    "print(rarr)"
   ]
  },
  {
   "cell_type": "code",
   "execution_count": null,
   "metadata": {},
   "outputs": [
    {
     "name": "stdout",
     "output_type": "stream",
     "text": [
      "[8, 7, 6, 5, 4, 3, 2, 1]\n"
     ]
    }
   ],
   "source": [
    "#Write a program to find the reverse of an array.\n",
    "def rarr(arr):\n",
    "    left=0\n",
    "    right=len(arr)-1\n",
    "    while(left<right):\n",
    "        temp=arr[left]\n",
    "        arr[left]=arr[right]\n",
    "        arr[right]=temp\n",
    "        left+=1\n",
    "        right-=1\n",
    "    return arr\n",
    "\n",
    "arr=[1,2,3,4,5,6,7,8]\n",
    "print(rarr(arr))"
   ]
  },
  {
   "cell_type": "code",
   "execution_count": null,
   "metadata": {},
   "outputs": [
    {
     "name": "stdout",
     "output_type": "stream",
     "text": [
      "mom\n",
      "String is palindrome\n"
     ]
    }
   ],
   "source": [
    "#Write a program to check if a string is a valid palindrome.\n",
    "string=input(\"Enter a string\").lower()\n",
    "rString=(string)[::-1]\n",
    "print(rString)\n",
    "\n",
    "if string==rString:\n",
    "    print(\"String is palindrome\")\n",
    "else:\n",
    "    print(\"string is not palindrome\")"
   ]
  },
  {
   "cell_type": "code",
   "execution_count": null,
   "metadata": {},
   "outputs": [
    {
     "name": "stdout",
     "output_type": "stream",
     "text": [
      "None\n",
      "None\n"
     ]
    }
   ],
   "source": [
    "def fun(num):\n",
    "    if num<1:\n",
    "        return 0\n",
    "    elif num%2==0:\n",
    "         print(fun(num-1))\n",
    "    '''else:\n",
    "\n",
    "       return num+fun(num-2)'''\n",
    "num=8    \n",
    "print(fun(num))"
   ]
  },
  {
   "cell_type": "code",
   "execution_count": null,
   "metadata": {},
   "outputs": [
    {
     "ename": "TypeError",
     "evalue": "'int' object is not iterable",
     "output_type": "error",
     "traceback": [
      "\u001b[1;31m---------------------------------------------------------------------------\u001b[0m",
      "\u001b[1;31mTypeError\u001b[0m                                 Traceback (most recent call last)",
      "Cell \u001b[1;32mIn[8], line 2\u001b[0m\n\u001b[0;32m      1\u001b[0m n \u001b[39m=\u001b[39m \u001b[39mint\u001b[39m(\u001b[39minput\u001b[39m())\n\u001b[1;32m----> 2\u001b[0m \u001b[39mfor\u001b[39;00m i \u001b[39min\u001b[39;00m n:\n\u001b[0;32m      3\u001b[0m     \u001b[39mif\u001b[39;00m i\u001b[39m<\u001b[39mn:\n\u001b[0;32m      4\u001b[0m         l\u001b[39m=\u001b[39mi\u001b[39m*\u001b[39mi\n",
      "\u001b[1;31mTypeError\u001b[0m: 'int' object is not iterable"
     ]
    }
   ],
   "source": [
    "\n",
    "n = int(input())\n",
    "for i in n:\n",
    "    if i<n:\n",
    "        l=i*i\n",
    "    print(int(l))"
   ]
  },
  {
   "cell_type": "code",
   "execution_count": null,
   "metadata": {},
   "outputs": [
    {
     "data": {
      "text/plain": [
       "False"
      ]
     },
     "execution_count": 2,
     "metadata": {},
     "output_type": "execute_result"
    }
   ],
   "source": [
    "def is_leap(year):\n",
    "    leap = False\n",
    "    if year % 4==0 and year % 100==0:\n",
    "        return True\n",
    "    elif year % 400==0:\n",
    "        return True\n",
    "    else:\n",
    "        return False\n",
    "\n",
    "    \n",
    "is_leap(1990)"
   ]
  },
  {
   "cell_type": "code",
   "execution_count": null,
   "metadata": {},
   "outputs": [
    {
     "name": "stdout",
     "output_type": "stream",
     "text": [
      "1 2 3 "
     ]
    }
   ],
   "source": [
    "n = 3\n",
    "for i in range(1,n+1):\n",
    "    print(i,end=\" \")"
   ]
  },
  {
   "cell_type": "code",
   "execution_count": null,
   "metadata": {},
   "outputs": [
    {
     "name": "stdout",
     "output_type": "stream",
     "text": [
      "3\n"
     ]
    }
   ],
   "source": [
    "arr=[1,2,1,2,1,2,3,3,4,4,4]\n",
    "arr1=list(set(arr))\n",
    "run=len(arr1)-1\n",
    "print(run)\n",
    "\n",
    "\n"
   ]
  },
  {
   "cell_type": "code",
   "execution_count": null,
   "metadata": {},
   "outputs": [
    {
     "name": "stdout",
     "output_type": "stream",
     "text": [
      "{1: 1, 2: 2, 3: 2, 4: 2, 6: 1}\n"
     ]
    }
   ],
   "source": [
    "a=[1,2,3,4,2,3,4,6]\n",
    "f={}\n",
    "for i in a:\n",
    "    f[i]=f.get(i,0)+1\n",
    "print(f)\n",
    "    \n",
    "    \n",
    "       \n",
    "\n",
    "    "
   ]
  },
  {
   "cell_type": "code",
   "execution_count": null,
   "metadata": {},
   "outputs": [
    {
     "name": "stdout",
     "output_type": "stream",
     "text": [
      "{'a': 2, 'b': 1, 'c': 2}\n"
     ]
    }
   ],
   "source": [
    "a=['a','a','b','c','c']\n",
    "freq={}\n",
    "for i in a:\n",
    "    freq[i]=freq.get(i,0)+1\n",
    "print(freq)"
   ]
  },
  {
   "cell_type": "code",
   "execution_count": null,
   "metadata": {},
   "outputs": [
    {
     "data": {
      "text/plain": [
       "3.0"
      ]
     },
     "execution_count": 11,
     "metadata": {},
     "output_type": "execute_result"
    }
   ],
   "source": [
    "from math import sqrt\n",
    "num=int(input())\n",
    "sqrt(num)"
   ]
  },
  {
   "cell_type": "code",
   "execution_count": null,
   "metadata": {},
   "outputs": [],
   "source": [
    "\n"
   ]
  },
  {
   "cell_type": "code",
   "execution_count": null,
   "metadata": {},
   "outputs": [
    {
     "name": "stdout",
     "output_type": "stream",
     "text": [
      "enter 5 element in list\n",
      "[1, 2, 3, 4, 5]\n"
     ]
    }
   ],
   "source": [
    "num=[]\n",
    "N = int(input())\n",
    "print(\"enter 5 element in list\")\n",
    "for i in range(N):\n",
    "    val=int(input())\n",
    "    num.append(val)\n",
    "    \n",
    "print(num)"
   ]
  },
  {
   "cell_type": "code",
   "execution_count": null,
   "metadata": {},
   "outputs": [],
   "source": [
    "list=[]\n",
    "N = int(input())\n",
    "pos=0\n",
    "def insert(self,e,p):\n",
    "    self.e=e\n",
    "    self.pos=0"
   ]
  },
  {
   "cell_type": "code",
   "execution_count": null,
   "metadata": {},
   "outputs": [],
   "source": []
  },
  {
   "cell_type": "markdown",
   "metadata": {},
   "source": [
    "string =\"\""
   ]
  },
  {
   "cell_type": "code",
   "execution_count": null,
   "metadata": {},
   "outputs": [
    {
     "name": "stdout",
     "output_type": "stream",
     "text": [
      "dfvcscas\n"
     ]
    }
   ],
   "source": [
    "string=\"sacscvfd\"\n",
    "rstring=\"\"\n",
    "for i in string:\n",
    "    rstring=i+rstring\n",
    "print(rstring)"
   ]
  },
  {
   "cell_type": "code",
   "execution_count": null,
   "metadata": {},
   "outputs": [],
   "source": []
  },
  {
   "cell_type": "code",
   "execution_count": null,
   "metadata": {},
   "outputs": [
    {
     "name": "stdout",
     "output_type": "stream",
     "text": [
      "non repiting char d\n"
     ]
    }
   ],
   "source": [
    "str1=\"sachsdfsachjingg\"\n",
    "for i in str1:\n",
    "    if(str1.find(i,str1.find(i)+1))==-1:\n",
    "        print(\"non repiting char\",i)\n",
    "        break\n"
   ]
  },
  {
   "cell_type": "code",
   "execution_count": null,
   "metadata": {},
   "outputs": [
    {
     "name": "stdout",
     "output_type": "stream",
     "text": [
      "not anagram\n"
     ]
    }
   ],
   "source": [
    "string11=\"amd\"\n",
    "string22=\"mdaaa\"\n",
    "if (sorted(string11) == sorted(string22)):\n",
    "    print(\"anagram\")\n",
    "else:\n",
    "    print(\"not anagram\")"
   ]
  },
  {
   "cell_type": "code",
   "execution_count": null,
   "metadata": {},
   "outputs": [
    {
     "name": "stdout",
     "output_type": "stream",
     "text": [
      "6\n"
     ]
    }
   ],
   "source": [
    "#using list\n",
    "strr1=\"abcdde\"\n",
    "count=0\n",
    "for i in range(len(strr1)):\n",
    "    count=count+1\n",
    "print(count)"
   ]
  },
  {
   "cell_type": "code",
   "execution_count": null,
   "metadata": {},
   "outputs": [
    {
     "name": "stdout",
     "output_type": "stream",
     "text": [
      "{'a': 1, 'b': 1, 'c': 3, 'd': 2, 'e': 1}\n"
     ]
    }
   ],
   "source": [
    "#using Dist\n",
    "strr1=\"abcccdde\"\n",
    "count={}\n",
    "for i in strr1:\n",
    "    if i in count:\n",
    "        count[i]+=1\n",
    "    else:\n",
    "        count[i]=1\n",
    "print(str(count))\n",
    "\n"
   ]
  },
  {
   "cell_type": "code",
   "execution_count": null,
   "metadata": {},
   "outputs": [
    {
     "name": "stdout",
     "output_type": "stream",
     "text": [
      "{'a': 1, 'b': 1, 'c': 3, 'd': 2, 'e': 1}\n"
     ]
    }
   ],
   "source": [
    "strr1=\"abcccdde\"\n",
    "count={}\n",
    "for i in strr1:\n",
    "    if i in count:\n",
    "        count[i]+=1\n",
    "    else:\n",
    "        count[i]=1\n",
    "print(str(count))\n"
   ]
  },
  {
   "cell_type": "code",
   "execution_count": null,
   "metadata": {},
   "outputs": [
    {
     "name": "stdout",
     "output_type": "stream",
     "text": [
      "[1, 2, 3, 4, 5, 6]\n"
     ]
    }
   ],
   "source": [
    "list1=[1,3,2,4,4,5,6,6]\n",
    "l1=set(list(list1))\n",
    "l2=list(l1)\n",
    "print(l2)\n"
   ]
  },
  {
   "cell_type": "code",
   "execution_count": null,
   "metadata": {},
   "outputs": [
    {
     "name": "stdout",
     "output_type": "stream",
     "text": [
      "[1, 2, 3, 4, 5, 6]\n"
     ]
    }
   ],
   "source": [
    "string1=[1,2,3,1,2,4,5,6]\n",
    "a=set(list(string1))\n",
    "b=list(a)\n",
    "print(b)"
   ]
  },
  {
   "cell_type": "code",
   "execution_count": null,
   "metadata": {},
   "outputs": [
    {
     "name": "stdout",
     "output_type": "stream",
     "text": [
      "1 4\n",
      "6 9\n"
     ]
    }
   ],
   "source": [
    "import math\n",
    "arr=[1,2,3,4]\n",
    "total= sum(arr)\n",
    "min1=min(arr)\n",
    "max1=max(arr)\n",
    "print(min1,max1)\n",
    "\n",
    "minsum=total - min1\n",
    "maxsum = total - max1\n",
    "\n",
    "print(maxsum , minsum)"
   ]
  },
  {
   "cell_type": "code",
   "execution_count": null,
   "metadata": {},
   "outputs": [
    {
     "name": "stdout",
     "output_type": "stream",
     "text": [
      "[5, 1, 2, 3, 4]\n"
     ]
    }
   ],
   "source": [
    "l=[1,2,3,4,5]\n",
    "def rotatel(lst,num):\n",
    "    for i in range(num):\n",
    "        lst.insert(0,lst.pop())\n",
    "    return lst\n",
    "\n",
    "num=int(1)\n",
    "rotatel=rotatel(l,num)\n",
    "print(rotatel)"
   ]
  },
  {
   "cell_type": "code",
   "execution_count": null,
   "metadata": {},
   "outputs": [],
   "source": [
    "l=[1,2,3,4,5,6,7]\n",
    "def rotated(lst,num):\n",
    "    for i in range(num):\n",
    "        lst.insert(0,lst.pop())\n",
    "    return lst\n",
    "\n",
    "num=int(input(\"Enter number\"))\n",
    "rotated=rotated(l,num)\n",
    "print(rotated)\n"
   ]
  },
  {
   "cell_type": "code",
   "execution_count": null,
   "metadata": {},
   "outputs": [],
   "source": [
    "class Queue:\n",
    "    def __init__(self,size):\n",
    "        self.maxsize=size\n",
    "        self.front=0\n",
    "        self.rear=-1\n",
    "        self.queue=[]\n",
    "        for i in range(self.maxsize):\n",
    "            self.queue.append(0)\n",
    "    \n",
    "    def enque(self,data):\n",
    "        self.rear+=1\n",
    "        self.queue[self.rear]=data\n",
    "        \n",
    "\n",
    "\n",
    "\n",
    "#TO BE CONTINUED"
   ]
  },
  {
   "cell_type": "code",
   "execution_count": null,
   "metadata": {},
   "outputs": [
    {
     "name": "stdout",
     "output_type": "stream",
     "text": [
      "palindrome\n"
     ]
    }
   ],
   "source": [
    "s1=\"mom\"\n",
    "rs1=s1[::-1]\n",
    "\n",
    "if s1==rs1:\n",
    "    print(\"palindrome\")\n",
    "else:\n",
    "    print('not palindrome')\n"
   ]
  },
  {
   "cell_type": "code",
   "execution_count": null,
   "metadata": {},
   "outputs": [
    {
     "name": "stdout",
     "output_type": "stream",
     "text": [
      "[7]\n"
     ]
    }
   ],
   "source": [
    "#Find the missing number in a list of consecutive integers using Python\n",
    "\n",
    "l=[1,2,3,4,5,6,8,9]\n",
    "a= sorted(set(range(l[0],l[-1])) - set(l))\n",
    "print(a)\n"
   ]
  },
  {
   "cell_type": "code",
   "execution_count": null,
   "metadata": {},
   "outputs": [
    {
     "name": "stdout",
     "output_type": "stream",
     "text": [
      "[7]\n"
     ]
    }
   ],
   "source": [
    "\n",
    "l=[1,2,3,4,5,6,8,9]\n",
    "\n",
    "a = sorted(set(range(l[0],l[-1])) - set(l))\n",
    "print(a)"
   ]
  },
  {
   "cell_type": "code",
   "execution_count": null,
   "metadata": {},
   "outputs": [
    {
     "name": "stdout",
     "output_type": "stream",
     "text": [
      "The misssing number is : 7\n"
     ]
    }
   ],
   "source": [
    "l=[1,2,3,4,5,6,8,9]\n",
    "n=l[-1]\n",
    "sum1=(n*(n+1))//2\n",
    "sum2=sum(l)\n",
    "misssingno= sum1 - sum2\n",
    "print(\"The misssing number is :\",misssingno)"
   ]
  },
  {
   "cell_type": "code",
   "execution_count": null,
   "metadata": {},
   "outputs": [],
   "source": []
  },
  {
   "cell_type": "code",
   "execution_count": null,
   "metadata": {},
   "outputs": [
    {
     "name": "stdout",
     "output_type": "stream",
     "text": [
      "3\n"
     ]
    }
   ],
   "source": [
    "def maxone(n):\n",
    "    maxones= 0\n",
    "    currentone = 0\n",
    "\n",
    "    for i in range(len(n)):\n",
    "        while n[i]==1:\n",
    "            currentone +=n[i]\n",
    "            maxones = max(maxones,currentone)\n",
    "            break\n",
    "        else:\n",
    "            currentone = 0\n",
    "    return maxones\n",
    "    \n",
    "\n",
    "\n",
    "bl=[1,1,1,0,0,0,1]\n",
    "result=maxone(bl)\n",
    "print(result)\n",
    "\n",
    "\n"
   ]
  },
  {
   "cell_type": "code",
   "execution_count": null,
   "metadata": {},
   "outputs": [
    {
     "data": {
      "text/plain": [
       "4"
      ]
     },
     "execution_count": 17,
     "metadata": {},
     "output_type": "execute_result"
    }
   ],
   "source": [
    "def maxone(n):\n",
    "    count=0\n",
    "    for i in n:\n",
    "        if i==1:\n",
    "            count+=1\n",
    "    return count\n",
    "bl=[1,1,1,0,0,0,1]\n",
    "maxone(bl)"
   ]
  },
  {
   "cell_type": "code",
   "execution_count": null,
   "metadata": {},
   "outputs": [],
   "source": [
    "#Implement a stack that supports push, pop, and min operations in O(1) time using Python.\n",
    "class Minstack:\n",
    "    def __init__(self):\n",
    "        self.stack=[]\n",
    "        self.minstack=[]\n",
    "\n",
    "    def push(self,ele):\n",
    "        self.stack.append(ele)\n",
    "        if not self.minstack or ele <= self.minstack[-1]:\n",
    "            self.minstack.append(ele)\n",
    "    \n",
    "    def pop(self):\n",
    "        if self.stack:\n",
    "            popvalue = self.stack.pop()\n",
    "            if popvalue == self.minstack[-1]:\n",
    "                self.minstack.pop()\n",
    "    \n",
    "    def top(self):\n",
    "        if self.stack:\n",
    "            return self.stack[-1]\n",
    "    \n",
    "    def get_min(self):\n",
    "        if self.minstack:\n",
    "            return self.minstack[-1]\n",
    "         \n",
    "\n",
    "\n",
    "        "
   ]
  },
  {
   "cell_type": "code",
   "execution_count": null,
   "metadata": {},
   "outputs": [
    {
     "name": "stdout",
     "output_type": "stream",
     "text": [
      "3\n",
      "6\n",
      "3\n"
     ]
    }
   ],
   "source": [
    "stack = Minstack()\n",
    "stack.push(3)\n",
    "stack.push(4)\n",
    "stack.push(5)\n",
    "stack.push(6)\n",
    "\n",
    "print(stack.get_min())\n",
    "print(stack.top())\n",
    "stack.pop()\n",
    "print(stack.get_min())\n",
    "\n"
   ]
  },
  {
   "cell_type": "code",
   "execution_count": null,
   "metadata": {},
   "outputs": [
    {
     "name": "stdout",
     "output_type": "stream",
     "text": [
      "1 2 3 4 5 6 7 "
     ]
    }
   ],
   "source": [
    "class TreeNode:\n",
    "    def __init__(self, val=0, left=None, right=None):\n",
    "        self.val = val\n",
    "        self.left = left\n",
    "        self.right = right\n",
    "\n",
    "def sorted_list_to_bst(nums):\n",
    "    if not nums:\n",
    "        return None\n",
    "\n",
    "    mid = len(nums) // 2\n",
    "\n",
    "    root = TreeNode(nums[mid])\n",
    "    root.left = sorted_list_to_bst(nums[:mid])\n",
    "    root.right = sorted_list_to_bst(nums[mid + 1:])\n",
    "\n",
    "    return root\n",
    "\n",
    "def in_order_traversal(root):\n",
    "    if root:\n",
    "        in_order_traversal(root.left)\n",
    "        print(root.val, end=\" \")\n",
    "        in_order_traversal(root.right)\n",
    "\n",
    "# Example usage:\n",
    "sorted_list = [1, 2, 3, 4, 5, 6, 7]\n",
    "root = sorted_list_to_bst(sorted_list)\n",
    "\n",
    "# Printing the in-order traversal of the created BST\n",
    "in_order_traversal(root)\n",
    "# Output: 1 2 3 4 5 6 7\n"
   ]
  },
  {
   "cell_type": "code",
   "execution_count": null,
   "metadata": {},
   "outputs": [
    {
     "name": "stdout",
     "output_type": "stream",
     "text": [
      "1 2 3 4 5 6 7 "
     ]
    }
   ],
   "source": [
    "class TreeNode:\n",
    "    def __init__(self, val=0, left=None, right=None):\n",
    "        self.val = val\n",
    "        self.left = left\n",
    "        self.right = right\n",
    "\n",
    "def sorted_list_to_bst(nums):\n",
    "    if not nums:\n",
    "        return None\n",
    "\n",
    "    mid = len(nums) // 2\n",
    "\n",
    "    root = TreeNode(nums[mid])\n",
    "    root.left = sorted_list_to_bst(nums[:mid])\n",
    "    root.right = sorted_list_to_bst(nums[mid + 1:])\n",
    "\n",
    "    return root\n",
    "\n",
    "def in_order_traversal(root):\n",
    "    if root:\n",
    "        in_order_traversal(root.left)\n",
    "        print(root.val, end=\" \")\n",
    "        in_order_traversal(root.right)\n",
    "\n",
    "# Example usage:\n",
    "sorted_list = [1, 2, 3, 4, 5, 6, 7]\n",
    "root = sorted_list_to_bst(sorted_list)\n",
    "\n",
    "# Printing the in-order traversal of the created BST\n",
    "in_order_traversal(root)\n",
    "# Output: 1 2 3 4 5 6 7\n",
    "\n"
   ]
  },
  {
   "cell_type": "code",
   "execution_count": null,
   "metadata": {},
   "outputs": [
    {
     "name": "stdout",
     "output_type": "stream",
     "text": [
      "11\n"
     ]
    }
   ],
   "source": [
    "def maxsubsum(n):\n",
    "    max_sum = float('-inf')\n",
    "    current_sum= 0\n",
    "\n",
    "    for i in n:\n",
    "        current_sum=max(i,current_sum+i)\n",
    "        max_sum= max(max_sum, current_sum)\n",
    "    return max_sum\n",
    "\n",
    "lst=[-1,-2,1,-3,4,1,2,4,-3]\n",
    "result=maxsubsum(lst)\n",
    "print(result)"
   ]
  },
  {
   "cell_type": "code",
   "execution_count": null,
   "metadata": {},
   "outputs": [
    {
     "name": "stdout",
     "output_type": "stream",
     "text": [
      "[1, 2, 3, 4, 5, 6, 7, 8, 9, 10]\n"
     ]
    }
   ],
   "source": [
    "l1=[1,2,3,4,5]\n",
    "l2=[6,7,8,9,10]\n",
    "n3=l1+l2\n",
    "print(n3)"
   ]
  },
  {
   "cell_type": "code",
   "execution_count": null,
   "metadata": {},
   "outputs": [
    {
     "name": "stdout",
     "output_type": "stream",
     "text": [
      "Task 2\n",
      "Task 1\n",
      "Task 3\n"
     ]
    }
   ],
   "source": [
    "#Implement a priority queue using a heapq module in Python.\n",
    "import heapq\n",
    "\n",
    "class PriorityQueue:\n",
    "    def __init__(self):\n",
    "        self._queue=[]\n",
    "        self._index=0\n",
    "    \n",
    "    def push(self,item,priority):\n",
    "        heapq.heappush(self._queue, (priority, self._index,item))\n",
    "        self._index +=1\n",
    "\n",
    "    def pop(self):\n",
    "        return heapq.heappop(self._queue)[-1]\n",
    "    \n",
    "    def is_empty(self):\n",
    "        return len(self._queue) == 0\n",
    "\n",
    "\n",
    "pq=PriorityQueue()\n",
    "pq.push(\"Task 1\",5)\n",
    "pq.push(\"Task 2\",3)\n",
    "pq.push(\"Task 3\",7)\n",
    "\n",
    "while not pq.is_empty():\n",
    "    print(pq.pop())\n",
    "        "
   ]
  },
  {
   "cell_type": "code",
   "execution_count": null,
   "metadata": {},
   "outputs": [
    {
     "name": "stdout",
     "output_type": "stream",
     "text": [
      "app\n"
     ]
    }
   ],
   "source": [
    "def longest_common_prefix(strs):\n",
    "    if not strs:\n",
    "        return \"\"\n",
    "\n",
    "    # Iterate through characters of the first string\n",
    "    for i, char in enumerate(strs[0]):\n",
    "        # Check the character in the same position for all strings\n",
    "        for string in strs[1:]:\n",
    "            if i >= len(string) or string[i] != char:\n",
    "                return strs[0][:i]  # Return the common prefix up to the mismatch\n",
    "\n",
    "    return strs[0]  # If the loop completes, the first string itself is the common prefix\n",
    "\n",
    "# Example usage:\n",
    "strings_list = [\"apple\", \"appetizer\", \"appstore\", \"applause\"]\n",
    "result = longest_common_prefix(strings_list)\n",
    "print(result)  # Output: \"app\"\n"
   ]
  },
  {
   "cell_type": "code",
   "execution_count": null,
   "metadata": {},
   "outputs": [
    {
     "name": "stdout",
     "output_type": "stream",
     "text": [
      "4\n"
     ]
    }
   ],
   "source": [
    "#Given a sorted rotated list, find the index of a target element using Python.\n",
    "\n",
    "def ste(num,target):\n",
    "    left=0\n",
    "    right=len(num)-1\n",
    "\n",
    "    while left<=right:\n",
    "        mid= (left + right) // 2\n",
    "\n",
    "        if num[mid] == target:\n",
    "            return mid\n",
    "        \n",
    "        if num[left] <= num[mid]:\n",
    "            if num[left] <= target < num[mid]:\n",
    "                right = mid - 1\n",
    "            else:\n",
    "                left = mid + 1\n",
    "        else:\n",
    "            if num[mid] < target <= num[right]:\n",
    "                left= mid + 1\n",
    "            else:\n",
    "                right = mid -1\n",
    "    return -1\n",
    "\n",
    "\n",
    "rotated_list = [4, 5, 6, 7, 0, 1, 2]\n",
    "target = 0\n",
    "index= ste(rotated_list,target)\n",
    "print(index)\n"
   ]
  },
  {
   "cell_type": "code",
   "execution_count": null,
   "metadata": {},
   "outputs": [
    {
     "name": "stdout",
     "output_type": "stream",
     "text": [
      "4\n"
     ]
    }
   ],
   "source": [
    "rotated_list = [4, 5, 6, 7, 0, 1, 2]\n",
    "target = 0\n",
    "\n",
    "for i in range(len(rotated_list)):\n",
    "    if rotated_list[i] == target:\n",
    "        print(i)"
   ]
  },
  {
   "cell_type": "code",
   "execution_count": null,
   "metadata": {},
   "outputs": [],
   "source": [
    "#Given a string, find the length of the longest substring without repeating characters using Python.\n",
    "\n",
    "def lenghtoLS(s):\n",
    "    if not s:\n",
    "        return 0\n",
    "    charindex={}\n",
    "    maxlen=0\n",
    "    left=0\n",
    "    \n",
    "    for right,char in enumerate(s):\n",
    "        if char in charindex and charindex[char] >= left:\n",
    "            left"
   ]
  },
  {
   "cell_type": "code",
   "execution_count": null,
   "metadata": {},
   "outputs": [
    {
     "name": "stdout",
     "output_type": "stream",
     "text": [
      "True\n"
     ]
    }
   ],
   "source": [
    "def is_valid_parentheses(s):\n",
    "    stack = []\n",
    "    mapping = {')': '(', '}': '{', ']': '['}\n",
    "\n",
    "    for char in s:\n",
    "        if char in mapping:\n",
    "            if not stack or stack.pop() != mapping[char]:\n",
    "                return False\n",
    "        else:\n",
    "            stack.append(char)\n",
    "\n",
    "    return not stack\n",
    "\n",
    "# Example usage:\n",
    "expression = \"{[()()]}\"\n",
    "result = is_valid_parentheses(expression)\n",
    "print(result)  # Output: True (the string is a valid parentheses expression)\n"
   ]
  },
  {
   "cell_type": "code",
   "execution_count": null,
   "metadata": {},
   "outputs": [
    {
     "ename": "SyntaxError",
     "evalue": "invalid syntax (1078635852.py, line 1)",
     "output_type": "error",
     "traceback": [
      "\u001b[1;36m  Cell \u001b[1;32mIn[9], line 1\u001b[1;36m\u001b[0m\n\u001b[1;33m    Find the median of two sorted lists using Python.\u001b[0m\n\u001b[1;37m         ^\u001b[0m\n\u001b[1;31mSyntaxError\u001b[0m\u001b[1;31m:\u001b[0m invalid syntax\n"
     ]
    }
   ],
   "source": [
    "Find the median of two sorted lists using Python."
   ]
  },
  {
   "cell_type": "code",
   "execution_count": null,
   "metadata": {},
   "outputs": [
    {
     "name": "stdout",
     "output_type": "stream",
     "text": [
      "6\n"
     ]
    }
   ],
   "source": [
    "# Find the distinct element in arr\n",
    "arr=[1,2,3,4,2,3,4,5,6,4,5]\n",
    "n1=list(set(arr))\n",
    "print(len(n1))"
   ]
  },
  {
   "cell_type": "code",
   "execution_count": null,
   "metadata": {},
   "outputs": [
    {
     "name": "stdout",
     "output_type": "stream",
     "text": [
      "6\n"
     ]
    }
   ],
   "source": [
    "\n",
    "def darr(arr,n):\n",
    "    mp=dict()\n",
    "    count_dis =0\n",
    "    for i in range(n):\n",
    "        if arr[i] in mp.keys():\n",
    "            mp[arr[i]] +=1\n",
    "        else:\n",
    "            mp[arr[i]]=1\n",
    "    print(len(mp))\n",
    "\n",
    "arr=[1,2,3,4,2,3,4,5,6,4,5]\n",
    "n=len(arr)\n",
    "darr(arr,n)"
   ]
  },
  {
   "cell_type": "code",
   "execution_count": null,
   "metadata": {},
   "outputs": [
    {
     "name": "stdout",
     "output_type": "stream",
     "text": [
      "Not an Automorfic number\n"
     ]
    }
   ],
   "source": [
    "#Write a program to check whether a number of automorphic numbers or not.\n",
    "num = int(input())\n",
    "n=len(str(num))\n",
    "\n",
    "sqr=num**2\n",
    "\n",
    "last= sqr%pow(10,n)\n",
    "\n",
    "if last == num:\n",
    "    print(\"Automorphic number\")\n",
    "else:\n",
    "    print(\"Not an Automorfic number\")"
   ]
  },
  {
   "cell_type": "code",
   "execution_count": null,
   "metadata": {},
   "outputs": [
    {
     "name": "stdout",
     "output_type": "stream",
     "text": [
      "2\n"
     ]
    }
   ],
   "source": [
    "a=[4, -2, 0, 6, -4]\n",
    "ans=-1\n",
    "for i in range(1,len(a)):\n",
    "    if sum(a[:i]) == sum(a[i+1:]):\n",
    "        ans=i\n",
    "        break\n",
    "print(ans)"
   ]
  },
  {
   "cell_type": "code",
   "execution_count": null,
   "metadata": {},
   "outputs": [
    {
     "name": "stdout",
     "output_type": "stream",
     "text": [
      "EQUILIBRIUM INDEX OF AN ARRAY: \n",
      "2\n"
     ]
    }
   ],
   "source": [
    "a=[4, -2, 0, 6, -4]\n",
    "ans=-1\n",
    "for i in range(1,len(a)):\n",
    "    if sum(a[:i])==sum(a[i+1:]):\n",
    "        ans=i\n",
    "        break    \n",
    "print(\"EQUILIBRIUM INDEX OF AN ARRAY: \")\n",
    "print(ans)"
   ]
  },
  {
   "cell_type": "code",
   "execution_count": null,
   "metadata": {},
   "outputs": [],
   "source": [
    "\n"
   ]
  },
  {
   "cell_type": "code",
   "execution_count": null,
   "metadata": {},
   "outputs": [
    {
     "name": "stdout",
     "output_type": "stream",
     "text": [
      "sAchIN\n"
     ]
    }
   ],
   "source": [
    "#Write a program to toggle each character in a string\n",
    "string= input()\n",
    "string1=\"\"\n",
    "\n",
    "for i in range(len(string)):\n",
    "    if (string[i] >= 'a' and string[i] <='z'):\n",
    "        string1 = string1 + chr(ord(string[i]) - 32)\n",
    "    elif (string[i] >='A' and string[i] <='Z'):\n",
    "        string1 = string1 + chr(ord(string[i]) + 32)\n",
    "    else:\n",
    "        string1= string1 + string[i]\n",
    "print(string1)\n",
    "\n",
    "    \n"
   ]
  },
  {
   "cell_type": "code",
   "execution_count": null,
   "metadata": {},
   "outputs": [],
   "source": [
    "#Write a program to check whether a number Harshad number or not.\n",
    "n=int(input())\n",
    "p=n\n",
    "sum1=0\n",
    "while(n>0):\n",
    "    sum1 += n%10\n",
    "    n=n//1\n",
    "if (p%sum1==0):\n",
    "\n",
    "    print(\"harshad number\")\n",
    "else:\n",
    "    print(\"not harshad number\")\n"
   ]
  },
  {
   "cell_type": "code",
   "execution_count": null,
   "metadata": {},
   "outputs": [
    {
     "name": "stdout",
     "output_type": "stream",
     "text": [
      "3 7\n"
     ]
    }
   ],
   "source": [
    "\n",
    "#Write a program to find the “Kth” maximum and minimum element of an array using\n",
    "\n",
    "def maxminele(arr,k):\n",
    "    sortarr= sorted(arr)\n",
    "    kmin=sortarr[k-1]\n",
    "    kmax=sortarr[-k]\n",
    "    return kmin, kmax\n",
    "arr = [3, 7, 1, 9, 4, 5, 8, 2, 6]\n",
    "k=3\n",
    "kmin ,kmax = maxminele(arr ,k)\n",
    "print(kmin,kmax)"
   ]
  },
  {
   "cell_type": "code",
   "execution_count": null,
   "metadata": {},
   "outputs": [
    {
     "name": "stdout",
     "output_type": "stream",
     "text": [
      "3rd minimum element: 3\n",
      "3rd maximum element: 7\n"
     ]
    }
   ],
   "source": [
    "def kth_max_min_elements(arr, k):\n",
    "    sorted_arr = sorted(arr)\n",
    "    kth_min = sorted_arr[k - 1]\n",
    "    kth_max = sorted_arr[-k]\n",
    "    return kth_min, kth_max\n",
    "\n",
    "# Test the program\n",
    "if __name__ == \"__main__\":\n",
    "    arr = [3, 7, 1, 9, 4, 5, 8, 2, 6]\n",
    "    k = 3\n",
    "    kth_min, kth_max = kth_max_min_elements(arr, k)\n",
    "\n",
    "    print(f\"{k}rd minimum element: {kth_min}\")\n",
    "    print(f\"{k}rd maximum element: {kth_max}\")\n"
   ]
  },
  {
   "cell_type": "code",
   "execution_count": null,
   "metadata": {},
   "outputs": [
    {
     "name": "stdout",
     "output_type": "stream",
     "text": [
      "Original permutation: [1, 2, 3]\n",
      "Next permutation: [1, 3, 2]\n"
     ]
    }
   ],
   "source": [
    "def next_permutation(nums):\n",
    "    # Find the pivot\n",
    "    i = len(nums) - 2\n",
    "    while i >= 0 and nums[i] >= nums[i + 1]:\n",
    "        i -= 1\n",
    "\n",
    "    if i >= 0:\n",
    "        # Find the smallest element greater than the pivot\n",
    "        j = len(nums) - 1\n",
    "        while j > i and nums[j] <= nums[i]:\n",
    "            j -= 1\n",
    "\n",
    "        # Swap the pivot and the element found\n",
    "        nums[i], nums[j] = nums[j], nums[i]\n",
    "\n",
    "    # Reverse the sublist to the right of the pivot index\n",
    "    nums[i + 1:] = nums[i + 1:][::-1]\n",
    "\n",
    "# Test the program\n",
    "if __name__ == \"__main__\":\n",
    "    nums = [1, 2, 3]\n",
    "    print(\"Original permutation:\", nums)\n",
    "\n",
    "    next_permutation(nums)\n",
    "    print(\"Next permutation:\", nums)\n"
   ]
  },
  {
   "cell_type": "code",
   "execution_count": null,
   "metadata": {},
   "outputs": [
    {
     "name": "stdout",
     "output_type": "stream",
     "text": [
      "[7, 6, 5, 4, 3, 2, 1]\n"
     ]
    }
   ],
   "source": [
    "\n",
    "def rarray(arr):\n",
    "    start = 0\n",
    "    end = len(arr) - 1\n",
    "\n",
    "    while start < end:\n",
    "        arr[start], arr[end] = arr[end], arr[start]\n",
    "        start +=1\n",
    "        end -=1\n",
    "\n",
    "arr = [1,2,3,4,5,6,7]\n",
    "rarray(arr)\n",
    "print(arr)"
   ]
  },
  {
   "cell_type": "code",
   "execution_count": null,
   "metadata": {},
   "outputs": [
    {
     "name": "stdout",
     "output_type": "stream",
     "text": [
      "Original array: [1, 2, 3, 4, 5]\n",
      "Reversed array: [5, 4, 3, 2, 1]\n"
     ]
    }
   ],
   "source": [
    "def reverse_array(arr):\n",
    "    start = 0\n",
    "    end = len(arr) - 1\n",
    "\n",
    "    while start < end:\n",
    "        arr[start], arr[end] = arr[end], arr[start]\n",
    "        start += 1\n",
    "        end -= 1\n",
    "\n",
    "# Example usage for array\n",
    "arr = [1, 2, 3, 4, 5]\n",
    "print(\"Original array:\", arr)\n",
    "reverse_array(arr)\n",
    "print(\"Reversed array:\", arr)"
   ]
  },
  {
   "cell_type": "code",
   "execution_count": null,
   "metadata": {},
   "outputs": [],
   "source": [
    "uplicate={}\n",
    "        for i in nums:\n",
    "            if i in duplicate:\n",
    "                return True\n",
    "            else:\n",
    "                duplicate[i]=1\n",
    "        return False"
   ]
  },
  {
   "cell_type": "code",
   "execution_count": null,
   "metadata": {},
   "outputs": [
    {
     "data": {
      "text/plain": [
       "1"
      ]
     },
     "execution_count": 4,
     "metadata": {},
     "output_type": "execute_result"
    }
   ],
   "source": [
    "a=22%3\n",
    "a"
   ]
  },
  {
   "cell_type": "code",
   "execution_count": null,
   "metadata": {},
   "outputs": [
    {
     "name": "stdout",
     "output_type": "stream",
     "text": [
      "1\n",
      "121\n",
      "12321\n",
      "1234321\n"
     ]
    }
   ],
   "source": [
    "'''\n",
    "1\n",
    "121\n",
    "12321\n",
    "1234321\n",
    "'''\n",
    "\n",
    "n=4\n",
    "for i in range(1,n+1):\n",
    "    for j in range(1,i+1):\n",
    "        print(j,end=\"\")\n",
    "    for j in range(i-1,0,-1):\n",
    "        print(j,end=\"\")\n",
    "    print()"
   ]
  },
  {
   "cell_type": "code",
   "execution_count": null,
   "metadata": {},
   "outputs": [
    {
     "name": "stdout",
     "output_type": "stream",
     "text": [
      "44\n"
     ]
    }
   ],
   "source": [
    "##DYNAMIC PROGRAMMING\n",
    "\n",
    "def maximumsum(n,data):\n",
    "    dp=[0] * n \n",
    "    dp[0],dp[1]=data[0],max(data[0],data[1])\n",
    "    for i in range(2,n):\n",
    "        dp[i] = max(dp[i-1],dp[i-2],data[i])\n",
    "    return dp[n-1]\n",
    "n=4\n",
    "data=list(map(int,input(\"Enter a list\").split()))\n",
    "maxsum1=maximumsum(n,data)\n",
    "print(maxsum1)"
   ]
  },
  {
   "cell_type": "code",
   "execution_count": null,
   "metadata": {},
   "outputs": [
    {
     "name": "stdout",
     "output_type": "stream",
     "text": [
      "4\n"
     ]
    }
   ],
   "source": [
    "s = \"pwwkew\"\n",
    "d={}\n",
    "for i in s:\n",
    "    "
   ]
  },
  {
   "cell_type": "code",
   "execution_count": null,
   "metadata": {},
   "outputs": [
    {
     "ename": "IndexError",
     "evalue": "list index out of range",
     "output_type": "error",
     "traceback": [
      "\u001b[1;31m---------------------------------------------------------------------------\u001b[0m",
      "\u001b[1;31mIndexError\u001b[0m                                Traceback (most recent call last)",
      "Cell \u001b[1;32mIn[35], line 19\u001b[0m\n\u001b[0;32m     16\u001b[0m     \u001b[39mprint\u001b[39m(lst[index])\n\u001b[0;32m     18\u001b[0m b\u001b[39m=\u001b[39m[\u001b[39m12\u001b[39m,\u001b[39m55\u001b[39m,\u001b[39m66\u001b[39m,\u001b[39m89\u001b[39m]\n\u001b[1;32m---> 19\u001b[0m maxsum(b)\n",
      "Cell \u001b[1;32mIn[35], line 16\u001b[0m, in \u001b[0;36mmaxsum\u001b[1;34m(lst)\u001b[0m\n\u001b[0;32m     14\u001b[0m k\u001b[39m=\u001b[39m\u001b[39mmax\u001b[39m(a)\n\u001b[0;32m     15\u001b[0m index\u001b[39m=\u001b[39ma\u001b[39m.\u001b[39mindex(k)\n\u001b[1;32m---> 16\u001b[0m \u001b[39mprint\u001b[39m(lst[index])\n",
      "\u001b[1;31mIndexError\u001b[0m: list index out of range"
     ]
    }
   ],
   "source": [
    "def digitsum(num):\n",
    "    digit=[]\n",
    "    while num !=0:\n",
    "        i=num%10\n",
    "        digit.append(i)\n",
    "        num=num//10\n",
    "    x=sum(digit)\n",
    "    return x\n",
    "def maxsum(lst):\n",
    "    a=[0]\n",
    "    for i in lst:\n",
    "        z=digitsum(i)\n",
    "        a.append(z)\n",
    "    k=max(a)\n",
    "    index=a.index(k)\n",
    "    print(lst[index])\n",
    "\n",
    "b=[12,55,66,89]\n",
    "maxsum(b)"
   ]
  },
  {
   "cell_type": "code",
   "execution_count": null,
   "metadata": {},
   "outputs": [
    {
     "name": "stdout",
     "output_type": "stream",
     "text": [
      "89\n"
     ]
    }
   ],
   "source": [
    "def digitsum(num):\n",
    "    digits = []\n",
    "    while num != 0:\n",
    "        i = num % 10\n",
    "        digits.append(i)\n",
    "        num = num // 10\n",
    "    x = sum(digits)\n",
    "    return x\n",
    "\n",
    "\n",
    "def maxsum(lst):\n",
    "    sumlist = []\n",
    "    for i in lst:\n",
    "        z = digitsum(i)\n",
    "        sumlist.append(z)\n",
    "    a = max(sumlist)\n",
    "    index = sumlist.index(a)\n",
    "    print(lst[index])\n",
    "\n",
    "b=[12,55,66,89]\n",
    "maxsum(b)"
   ]
  },
  {
   "cell_type": "code",
   "execution_count": null,
   "metadata": {},
   "outputs": [
    {
     "ename": "TypeError",
     "evalue": "unsupported operand type(s) for //: 'list' and 'int'",
     "output_type": "error",
     "traceback": [
      "\u001b[1;31m---------------------------------------------------------------------------\u001b[0m",
      "\u001b[1;31mTypeError\u001b[0m                                 Traceback (most recent call last)",
      "Cell \u001b[1;32mIn[31], line 5\u001b[0m\n\u001b[0;32m      3\u001b[0m num3\u001b[39m=\u001b[39mnums1 \u001b[39m+\u001b[39m nums2\n\u001b[0;32m      4\u001b[0m \u001b[39msorted\u001b[39m(num3)\n\u001b[1;32m----> 5\u001b[0m mid\u001b[39m=\u001b[39m\u001b[39mint\u001b[39m(num3\u001b[39m/\u001b[39;49m\u001b[39m/\u001b[39;49m\u001b[39m2\u001b[39;49m)\n",
      "\u001b[1;31mTypeError\u001b[0m: unsupported operand type(s) for //: 'list' and 'int'"
     ]
    }
   ],
   "source": [
    "nums1 = [1,3]\n",
    "nums2 = [2]\n",
    "Num3=(nums1 + nums2) //2\n",
    "float(num3)"
   ]
  },
  {
   "cell_type": "code",
   "execution_count": null,
   "metadata": {},
   "outputs": [
    {
     "name": "stdout",
     "output_type": "stream",
     "text": [
      "sachin , jadhav @2\n"
     ]
    }
   ],
   "source": [
    "\n"
   ]
  },
  {
   "cell_type": "code",
   "execution_count": null,
   "metadata": {},
   "outputs": [
    {
     "name": "stdout",
     "output_type": "stream",
     "text": [
      "@2 is good boy\n"
     ]
    }
   ],
   "source": [
    "from collections import deque\n",
    "\n",
    "def rearrange_string(input_str):\n",
    "    words = input_str.split()\n",
    "    special_char_queue = deque()\n",
    "\n",
    "    # Separate words and special characters\n",
    "    for word in words:\n",
    "        if '@' in word:\n",
    "            special_char_queue.append(word)\n",
    "        else:\n",
    "            special_char_queue.append(None)  # Placeholder for non-special characters\n",
    "\n",
    "    # Reconstruct the output string by popping from the queue\n",
    "    output_words = []\n",
    "    for _ in words:\n",
    "        item = special_char_queue.popleft()\n",
    "        if item is None:\n",
    "            output_words.insert(0, words.pop())\n",
    "        else:\n",
    "            output_words.insert(0, item)\n",
    "\n",
    "    output_str = ' '.join(output_words)\n",
    "    return output_str\n",
    "\n",
    "input_str = \"sachin , jadhav @2 is good boy\"\n",
    "output_str = rearrange_string(input_str)\n",
    "print(output_str)\n"
   ]
  },
  {
   "cell_type": "code",
   "execution_count": null,
   "metadata": {},
   "outputs": [
    {
     "data": {
      "text/plain": [
       "\"('leetcode',)\""
      ]
     },
     "execution_count": 9,
     "metadata": {},
     "output_type": "execute_result"
    }
   ],
   "source": [
    "s = \"leetcode\", \n",
    "wordDict = [\"leet\",\"code\"]\n",
    "s=str(s)\n"
   ]
  },
  {
   "cell_type": "code",
   "execution_count": null,
   "metadata": {},
   "outputs": [],
   "source": [
    "line=input(\"Enter a line\")\n",
    "linelist=line.split()[::-1]\n",
    "print(\"linelist:\",linelist)"
   ]
  },
  {
   "cell_type": "code",
   "execution_count": null,
   "metadata": {},
   "outputs": [
    {
     "name": "stdout",
     "output_type": "stream",
     "text": [
      "[1, 3, 2, 5, 5, 5, 8, 8, 9, 9]\n"
     ]
    }
   ],
   "source": [
    "nums=[13,25,55,88,99]\n",
    "#output=[1,3,2,5,5,5,8,8,9,9]\n",
    "res=[]\n",
    "for i in nums:\n",
    "    digits= [int(j) for j in str(i)]\n",
    "    res.extend(digits)\n",
    "print(res)\n"
   ]
  },
  {
   "cell_type": "code",
   "execution_count": null,
   "metadata": {},
   "outputs": [
    {
     "data": {
      "text/plain": [
       "'ABC'"
      ]
     },
     "execution_count": 2,
     "metadata": {},
     "output_type": "execute_result"
    }
   ],
   "source": [
    "import math\n",
    "str1=\"ABCABC\"\n",
    "str2=\"ABC\"\n",
    "def fun(str1,str2):\n",
    "    '''n1=len(str1)\n",
    "    n2=len(str2)'''\n",
    "    if (str1 + str2) != (str2+str1):\n",
    "        return \"\"\n",
    "    else:\n",
    "        return str1[:math.gcd(len(str1),len(str2))]\n",
    "fun(str1,str2)"
   ]
  },
  {
   "cell_type": "code",
   "execution_count": 7,
   "metadata": {},
   "outputs": [
    {
     "name": "stdout",
     "output_type": "stream",
     "text": [
      "3\n"
     ]
    }
   ],
   "source": [
    "def setbit(N):\n",
    "    count=0\n",
    "    \n",
    "    for i in range(1,N+1):\n",
    "        a=bin(i)[2:]   #'0b101' i dont want 0b so used [2:]\n",
    "        total=a.count('1')\n",
    "        if total ==1:\n",
    "            count+=1\n",
    "    return count\n",
    "        \n",
    "N=5\n",
    "obj=setbit(N)\n",
    "print(obj)\n",
    "\n",
    "        "
   ]
  },
  {
   "cell_type": "code",
   "execution_count": 10,
   "metadata": {},
   "outputs": [
    {
     "data": {
      "text/plain": [
       "'0b101'"
      ]
     },
     "execution_count": 10,
     "metadata": {},
     "output_type": "execute_result"
    }
   ],
   "source": [
    "bin(5)"
   ]
  },
  {
   "cell_type": "code",
   "execution_count": 11,
   "metadata": {},
   "outputs": [
    {
     "name": "stdout",
     "output_type": "stream",
     "text": [
      "T I A S \n",
      "H S   T \n",
      "I     R \n",
      "S     I \n",
      "      N \n",
      "      G \n"
     ]
    }
   ],
   "source": [
    "def printvertical(string):\n",
    "    words=string.split()\n",
    "    maxlen=max(len(word) for word in words)\n",
    "\n",
    "    for i in range(maxlen):\n",
    "        for word in words:\n",
    "            if i < len(word):\n",
    "                print(word[i],end=' ')\n",
    "            else:\n",
    "                print(' ',end=' ')\n",
    "        print()\n",
    "\n",
    "input=\"THIS IS A STRING\"\n",
    "printvertical(input)"
   ]
  },
  {
   "cell_type": "code",
   "execution_count": 1,
   "metadata": {},
   "outputs": [
    {
     "name": "stdout",
     "output_type": "stream",
     "text": [
      "6054854654\n"
     ]
    }
   ],
   "source": [
    "#Arrange given numbers to form the biggest number | Set 1\n",
    "\n",
    "def largenumberofarr(arr):\n",
    "    if len(arr)==1:\n",
    "        return str(arr[0])\n",
    "    for i in range(len(arr)):\n",
    "        arr[i]=str(arr[i])\n",
    "\n",
    "    for i in range(len(arr)):\n",
    "        for j in range(i+1,len(arr)):\n",
    "            if arr[j]+arr[i]>arr[i]+arr[j]:\n",
    "                arr[i],arr[j]=arr[j],arr[i]\n",
    "    result=''.join(arr)\n",
    "    if result=='0'*len(result):\n",
    "        return '0'\n",
    "    else:\n",
    "        return result\n",
    "    \n",
    "if __name__ == \"__main__\":\n",
    "    a = [54, 546, 548, 60]\n",
    "    print(largenumberofarr(a))"
   ]
  },
  {
   "cell_type": "code",
   "execution_count": 4,
   "metadata": {},
   "outputs": [
    {
     "name": "stdout",
     "output_type": "stream",
     "text": [
      "15\n"
     ]
    }
   ],
   "source": [
    "#sum of array\n",
    "arr=[1,2,3,4,5]\n",
    "sum=0\n",
    "for i in arr:\n",
    "    sum+=i\n",
    "print(sum)\n",
    "\n",
    "  "
   ]
  },
  {
   "cell_type": "code",
   "execution_count": null,
   "metadata": {},
   "outputs": [],
   "source": []
  }
 ],
 "metadata": {
  "kernelspec": {
   "display_name": "Python 3",
   "language": "python",
   "name": "python3"
  },
  "language_info": {
   "codemirror_mode": {
    "name": "ipython",
    "version": 3
   },
   "file_extension": ".py",
   "mimetype": "text/x-python",
   "name": "python",
   "nbconvert_exporter": "python",
   "pygments_lexer": "ipython3",
   "version": "3.11.2"
  },
  "orig_nbformat": 4
 },
 "nbformat": 4,
 "nbformat_minor": 2
}
