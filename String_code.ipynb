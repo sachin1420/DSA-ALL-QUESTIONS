{
  "nbformat": 4,
  "nbformat_minor": 0,
  "metadata": {
    "colab": {
      "provenance": []
    },
    "kernelspec": {
      "name": "python3",
      "display_name": "Python 3"
    },
    "language_info": {
      "name": "python"
    }
  },
  "cells": [
    {
      "cell_type": "markdown",
      "source": [
        "# **`TCS CODING QUESTIONS`**"
      ],
      "metadata": {
        "id": "DbsGWH-_My9T"
      }
    },
    {
      "cell_type": "markdown",
      "source": [
        "**Problem Statement –** Given a string S(input consisting) of ‘+’ and ‘#’. The length of the string is variable. The task is to find the minimum number of ‘+’ or ‘#’ to make it a valid string. The string is considered valid if the number of ‘+’ and ‘#’ are equal. The ‘+’ and ‘#’ can be at any position in the string.\n",
        "Note : The output will be a positive or negative integer based on number of ‘+’ and ‘#’ in the input string.\n",
        "\n",
        "(+>#): positive integer<br>\n",
        "(#>+): negative integer<br>\n",
        "(#=+): 0<br><br>\n",
        "Example 1:<br>\n",
        "Input 1:\n",
        "\n",
        " '###+++'   -> Value of S<br>\n",
        "Output :\n",
        "0   → number of + and # are equal"
      ],
      "metadata": {
        "id": "49R88iOfNQ8k"
      }
    },
    {
      "cell_type": "code",
      "source": [
        "def validstr(str):\n",
        "  a=0\n",
        "  b=0\n",
        "  for i in str:\n",
        "    if i==\"+\":\n",
        "      a+=1\n",
        "    elif i==\"#\":\n",
        "      b+=1\n",
        "  return (a-b)\n",
        "\n",
        "str1='###+++'\n",
        "print(validstr(str1))\n",
        "\n",
        "str2='##+++'\n",
        "print(validstr(str2))\n",
        "\n",
        "str3='###+'\n",
        "print(validstr(str3))"
      ],
      "metadata": {
        "colab": {
          "base_uri": "https://localhost:8080/"
        },
        "id": "6t1WoZ5yNvsh",
        "outputId": "20a3e60c-6134-4436-c6a5-625be87ad625"
      },
      "execution_count": null,
      "outputs": [
        {
          "output_type": "stream",
          "name": "stdout",
          "text": [
            "0\n",
            "1\n",
            "-2\n"
          ]
        }
      ]
    },
    {
      "cell_type": "markdown",
      "source": [
        "# **Given an integer array Arr of size N the task is to find the count of elements whose value is greater than all of its prior elements.**\n",
        "\n",
        "*Note : 1st element of the array should be considered in the count of the result*.\n",
        "\n",
        "**For example,**<br>\n",
        "Arr[]={7,4,8,2,9}<br>\n",
        "*As 7 is the first element, it will consider in the result.\n",
        "8 and 9 are also the elements that are greater than all of its previous elements.<br>\n",
        "Since total of  3 elements is present in the array that meets the condition.<br>\n",
        "Hence the output = 3.*<br><br>\n",
        "Example 1:<br>\n",
        "\n",
        "Input <br>\n",
        "5 -> Value of N, represents size of Arr<br>\n",
        "7-> Value of Arr[0]<br>\n",
        "4 -> Value of Arr[1]<br>\n",
        "8-> Value of Arr[2]<br>\n",
        "2-> Value of Arr[3]<br>\n",
        "9-> Value of Arr[4]<br>\n",
        "\n",
        "Output :<br>\n",
        "3<br>\n",
        "\n",
        "Example 2:<br>\n",
        "5   -> Value of N, represents size of Arr<br>\n",
        "3  -> Value of Arr[0]<br>\n",
        "4 -> Value of Arr[1]<br>\n",
        "5 -> Value of Arr[2]<br>\n",
        "8 -> Value of Arr[3]<br>\n",
        "9 -> Value of Arr[4]<br>\n",
        "\n",
        "Output : <br>\n",
        "5\n",
        "\n",
        "Constraints\n",
        "\n",
        "1<=N<=20<br>\n",
        "1<=Arr[i]<=10000"
      ],
      "metadata": {
        "id": "xoOdjXZ_gROM"
      }
    },
    {
      "cell_type": "code",
      "source": [
        "def gprior(arr):\n",
        "  count=1\n",
        "  max=arr[0]\n",
        "  for i in range(1,len(arr)):\n",
        "    if arr[i]>max:\n",
        "      count+=1\n",
        "      max=arr[i]\n",
        "  return count\n",
        "\n",
        "arr=[7,4,8,2,9]\n",
        "print(gprior(arr))"
      ],
      "metadata": {
        "colab": {
          "base_uri": "https://localhost:8080/"
        },
        "id": "LSGKeC7CQgjI",
        "outputId": "360fece3-4d2c-4206-ad80-92eef2b3b800"
      },
      "execution_count": null,
      "outputs": [
        {
          "output_type": "stream",
          "name": "stdout",
          "text": [
            "3\n"
          ]
        }
      ]
    },
    {
      "cell_type": "markdown",
      "source": [
        "# **540. Single Element in a Sorted Array**\n",
        "\n",
        "\n",
        "You are given a sorted array consisting of only integers where every element appears exactly twice, except for one element which appears exactly once.\n",
        "\n",
        "Return the single element that appears only once.\n",
        "\n",
        "Your solution must run in O(log n) time and O(1) space.\n",
        "\n",
        "\n",
        "\n",
        "Example 1:\n",
        "\n",
        "Input: nums = [1,1,2,3,3,4,4,8,8]<br>\n",
        "Output: 2<br><br>\n",
        "Example 2:\n",
        "\n",
        "Input: nums = [3,3,7,7,10,11,11]<br>\n",
        "Output: 10<br>\n",
        "\n",
        "\n",
        "Constraints:\n",
        "\n",
        "1 <= nums.length <= 105\n",
        "0 <= nums[i] <= 105\n",
        "\n",
        "\n",
        "***leetcode problem based on binary search approach***"
      ],
      "metadata": {
        "id": "W1rRTtgCBxvl"
      }
    },
    {
      "cell_type": "code",
      "source": [
        "\n",
        "  def singleNonDuplicate(nums):\n",
        "      i=0\n",
        "      j=len(nums)-1\n",
        "      while i<j:\n",
        "          mid=(i+j)//2\n",
        "          if mid % 2 ==1:\n",
        "              mid -= 1\n",
        "          if nums[mid] != nums[mid + 1]:\n",
        "              j=mid\n",
        "          else:\n",
        "              i=mid+2\n",
        "      return nums[i]\n",
        "\n",
        "nums=[1,1,2,3,3,4,4,8,8]\n",
        "print(singleNonDuplicate(nums))"
      ],
      "metadata": {
        "colab": {
          "base_uri": "https://localhost:8080/"
        },
        "id": "Zyqz9D1tCaQE",
        "outputId": "a770d123-5f17-4edf-ec5e-b9b251f9903c"
      },
      "execution_count": null,
      "outputs": [
        {
          "output_type": "stream",
          "name": "stdout",
          "text": [
            "2\n"
          ]
        }
      ]
    },
    {
      "cell_type": "code",
      "source": [
        "4%2"
      ],
      "metadata": {
        "colab": {
          "base_uri": "https://localhost:8080/"
        },
        "id": "1bJy94aZD2oR",
        "outputId": "489f518f-3196-413e-a4dc-5f170178cb96"
      },
      "execution_count": null,
      "outputs": [
        {
          "output_type": "execute_result",
          "data": {
            "text/plain": [
              "0"
            ]
          },
          "metadata": {},
          "execution_count": 2
        }
      ]
    },
    {
      "cell_type": "markdown",
      "source": [
        "# **Check the two string are isomorphic to each other or not.**\n",
        "\n",
        "str1=aab<br>\n",
        "str2=xxy\n",
        "\n",
        "output=1 , it is isomorphic\n",
        "\n",
        "str1=aabbab<br>\n",
        "str2=xxyyxy\n",
        "\n",
        "output= 1\n",
        "\n",
        "str1=aab<br>\n",
        "str2=xyy\n",
        "\n",
        "output= 0\n",
        "\n"
      ],
      "metadata": {
        "id": "n36uUtESCMDL"
      }
    },
    {
      "cell_type": "code",
      "source": [
        "def is_isomorphic(str1, str2):\n",
        "    if len(str1) != len(str2):\n",
        "        return False\n",
        "\n",
        "    char_map_1 = {}\n",
        "    char_map_2 = {}\n",
        "\n",
        "    for i in range(len(str1)):\n",
        "        char1 = str1[i]\n",
        "        char2 = str2[i]\n",
        "\n",
        "        if char1 in char_map_1:\n",
        "            if char_map_1[char1] != char2:\n",
        "                return False\n",
        "        else:\n",
        "            char_map_1[char1] = char2\n",
        "\n",
        "        if char2 in char_map_2:\n",
        "            if char_map_2[char2] != char1:\n",
        "                return False\n",
        "        else:\n",
        "            char_map_2[char2] = char1\n",
        "\n",
        "    return True\n",
        "\n",
        "print(is_isomorphic(\"aab\", \"xxy\"))\n",
        "print(is_isomorphic(\"aabbab\", \"xxyyxy\"))\n",
        "print(is_isomorphic(\"aab\", \"xyy\"))\n"
      ],
      "metadata": {
        "id": "IFe7J89fD4AB",
        "colab": {
          "base_uri": "https://localhost:8080/"
        },
        "outputId": "547ffa8c-a4c6-4c91-98ba-fac68ff63f4f"
      },
      "execution_count": null,
      "outputs": [
        {
          "output_type": "stream",
          "name": "stdout",
          "text": [
            "True\n",
            "True\n",
            "False\n"
          ]
        }
      ]
    },
    {
      "cell_type": "markdown",
      "source": [
        "Count the word no.of times occurence"
      ],
      "metadata": {
        "id": "-_6NgCIU9UDw"
      }
    },
    {
      "cell_type": "code",
      "source": [
        "def countword(str):\n",
        "  str=str.split()\n",
        "  i=0\n",
        "  while i<len(str):\n",
        "    count=0\n",
        "    for j in str:\n",
        "      if str[i]==j:\n",
        "        count+=1\n",
        "    print(str[i],count)\n",
        "    i+=1\n",
        "str=input(\"Enter word\")\n",
        "countword(str)"
      ],
      "metadata": {
        "colab": {
          "base_uri": "https://localhost:8080/"
        },
        "id": "FxzG2wvB9oVY",
        "outputId": "f340f025-c7d8-450f-ac9e-2d889e274954"
      },
      "execution_count": null,
      "outputs": [
        {
          "output_type": "stream",
          "name": "stdout",
          "text": [
            "Enter wordhello sachin hello\n",
            "hello 2\n",
            "sachin 1\n",
            "hello 2\n"
          ]
        }
      ]
    },
    {
      "cell_type": "markdown",
      "source": [
        "Remove Special charater"
      ],
      "metadata": {
        "id": "VGjvkg6pBm25"
      }
    },
    {
      "cell_type": "code",
      "source": [
        "str1=\"sa@chin\"\n",
        "special=\"@#$%^&*\"\n",
        "for i in special:\n",
        "  str1=str1.replace(i,\"\")\n",
        "print(str1)"
      ],
      "metadata": {
        "colab": {
          "base_uri": "https://localhost:8080/"
        },
        "id": "SYqX7n5VAD9N",
        "outputId": "8dffa82d-c952-44b1-bad9-3a680f11daf2"
      },
      "execution_count": null,
      "outputs": [
        {
          "output_type": "stream",
          "name": "stdout",
          "text": [
            "sachin\n"
          ]
        }
      ]
    },
    {
      "cell_type": "code",
      "source": [
        "str1=\"Sachin@ Jadha@v\"\n",
        "b=\"\"\n",
        "for i in str1:\n",
        "  if i.isalnum() or i.isspace() or i==\"?\":\n",
        "    b+=i\n",
        "print(b)"
      ],
      "metadata": {
        "colab": {
          "base_uri": "https://localhost:8080/"
        },
        "id": "hKkvC777Bj6J",
        "outputId": "54ca2599-9558-4cf1-eea9-c5b06f3f800f"
      },
      "execution_count": null,
      "outputs": [
        {
          "output_type": "stream",
          "name": "stdout",
          "text": [
            "Sachin Jadhav\n"
          ]
        }
      ]
    },
    {
      "cell_type": "markdown",
      "source": [
        "common between two string"
      ],
      "metadata": {
        "id": "9IzkTh5dCT02"
      }
    },
    {
      "cell_type": "code",
      "source": [
        "str1=\"Sachin Jadhav\"\n",
        "str2=\"hellow i am Sachin Jadhav\"\n",
        "a=str1.split()\n",
        "b=str2.split()\n",
        "c=[]\n",
        "for i in a:\n",
        "  if i in b:\n",
        "    c.append(i)\n",
        "print(\" \".join(c))"
      ],
      "metadata": {
        "colab": {
          "base_uri": "https://localhost:8080/"
        },
        "id": "RfhsQ_ZyCbyj",
        "outputId": "1234d53a-2e0b-4607-93ce-b2ef7b58d77e"
      },
      "execution_count": null,
      "outputs": [
        {
          "output_type": "stream",
          "name": "stdout",
          "text": [
            "Sachin Jadhav\n"
          ]
        }
      ]
    },
    {
      "cell_type": "code",
      "source": [
        "#Using Set and intersection\n",
        "\n",
        "str1=\"Sachin Jadhav\"\n",
        "str2=\"hellow i am Sachin Jadhav\"\n",
        "a=set(str1.split())\n",
        "b=set(str2.split())\n",
        "\n",
        "common=list(a.intersection(b))\n",
        "print(\" \".join(common))"
      ],
      "metadata": {
        "colab": {
          "base_uri": "https://localhost:8080/"
        },
        "id": "znxjvduQDV_d",
        "outputId": "f73c0470-5f1c-4c9a-81e7-a69da398db97"
      },
      "execution_count": null,
      "outputs": [
        {
          "output_type": "stream",
          "name": "stdout",
          "text": [
            "Jadhav Sachin\n"
          ]
        }
      ]
    },
    {
      "cell_type": "markdown",
      "source": [
        "# **Count Smallest and larget word in string**"
      ],
      "metadata": {
        "id": "AEOIYsPCExVp"
      }
    },
    {
      "cell_type": "code",
      "source": [
        "str=\"Sachin is good boy\"\n",
        "word=str.split()\n",
        "largest=small=word[0]\n",
        "for i in range(0,len(word)):\n",
        "  if len(largest)<len(word[i]):\n",
        "    largest=word[i]\n",
        "  if len(small)>len(word[i]):\n",
        "    small=word[i]\n",
        "print(\"largest : \",largest)\n",
        "print(\"small word : \", small)"
      ],
      "metadata": {
        "colab": {
          "base_uri": "https://localhost:8080/"
        },
        "id": "FcrHxk2tE7Mi",
        "outputId": "23549804-8243-4311-9693-2139437354f8"
      },
      "execution_count": null,
      "outputs": [
        {
          "output_type": "stream",
          "name": "stdout",
          "text": [
            "largest :  Sachin\n",
            "small word :  is\n"
          ]
        }
      ]
    },
    {
      "cell_type": "markdown",
      "source": [
        "# **Remove duplicate character in string**"
      ],
      "metadata": {
        "id": "0B9CcG-QGf1w"
      }
    },
    {
      "cell_type": "code",
      "source": [
        "str=\"hello\"\n",
        "str1=\"\"\n",
        "for i in str:\n",
        "  if i not in str1:\n",
        "    str1=str1+i\n",
        "print(str1)"
      ],
      "metadata": {
        "colab": {
          "base_uri": "https://localhost:8080/"
        },
        "id": "bxFJwJUIGJK7",
        "outputId": "739ad764-b0fe-4b8c-b7ca-f73ee9bea606"
      },
      "execution_count": null,
      "outputs": [
        {
          "output_type": "stream",
          "name": "stdout",
          "text": [
            "helo\n"
          ]
        }
      ]
    },
    {
      "cell_type": "code",
      "source": [
        "# Using Array\n",
        "str=\"hello\"\n",
        "str1=\"\"\n",
        "st=[]\n",
        "for i in str:\n",
        "  if i not in str1:\n",
        "    str1=str1+i\n",
        "    st.append(i)\n",
        "print(\" \".join(st))"
      ],
      "metadata": {
        "colab": {
          "base_uri": "https://localhost:8080/"
        },
        "id": "ZpFaAjroHOVn",
        "outputId": "9e5cd60e-366d-4d41-a1be-33f404ac7e03"
      },
      "execution_count": null,
      "outputs": [
        {
          "output_type": "stream",
          "name": "stdout",
          "text": [
            "h e l o\n"
          ]
        }
      ]
    },
    {
      "cell_type": "markdown",
      "source": [],
      "metadata": {
        "id": "NDfUwioyHxJ5"
      }
    },
    {
      "cell_type": "markdown",
      "source": [],
      "metadata": {
        "id": "QlacpitbIZsg"
      }
    },
    {
      "cell_type": "code",
      "source": [],
      "metadata": {
        "id": "k9CZuyeEHZsv"
      },
      "execution_count": null,
      "outputs": []
    }
  ]
}