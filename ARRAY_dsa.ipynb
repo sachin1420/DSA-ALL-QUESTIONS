{
  "nbformat": 4,
  "nbformat_minor": 0,
  "metadata": {
    "colab": {
      "provenance": []
    },
    "kernelspec": {
      "name": "python3",
      "display_name": "Python 3"
    },
    "language_info": {
      "name": "python"
    }
  },
  "cells": [
    {
      "cell_type": "code",
      "execution_count": null,
      "metadata": {
        "id": "snLuBJE07p7T"
      },
      "outputs": [],
      "source": []
    },
    {
      "cell_type": "markdown",
      "source": [
        "# **Sum of the Element present in array**\n",
        "\n",
        "Example 1:\n",
        "Input: N = 5, array[] = {1,2,3,4,5}\n",
        "Output: 15\n",
        "Explanation: Sum of all the elements is 1+2+3+4+5 = 15\n",
        "\n",
        "Example 2:\n",
        "Input:  N=6, array[] = {1,2,1,1,5,1}\n",
        "Output: 11\n",
        "Explanation: Sum of all the elements is 1+2+1+1+5+1 = 11"
      ],
      "metadata": {
        "id": "7PCAUiAM7smX"
      }
    },
    {
      "cell_type": "code",
      "source": [
        "sum=0\n",
        "for i in range(len(arr)):\n",
        "  sum+=arr[i]\n",
        "  i+=1\n",
        "print(sum)\n",
        "\n",
        "\n",
        "arr=[1,2,3,4,5]\n"
      ],
      "metadata": {
        "colab": {
          "base_uri": "https://localhost:8080/"
        },
        "id": "D497F4o67zvX",
        "outputId": "b977a99d-b7c9-4aff-b6bf-a84cc16725e3"
      },
      "execution_count": null,
      "outputs": [
        {
          "output_type": "stream",
          "name": "stdout",
          "text": [
            "15\n"
          ]
        }
      ]
    },
    {
      "cell_type": "markdown",
      "source": [
        "# **Count frequency of each element in an array**\n",
        "Example 1:\n",
        "Input: arr[] = {10,5,10,15,10,5};\n",
        "Output: 10  3\n",
        "\t 5  2\n",
        "        15  1\n",
        "Explanation: 10 occurs 3 times in the array\n",
        "\t      5 occurs 2 times in the array\n",
        "              15 occurs 1 time in the array\n",
        "\n",
        "Example2:\n",
        "Input: arr[] = {2,2,3,4,4,2};\n",
        "Output: 2  3\n",
        "\t3  1\n",
        "        4  2\n",
        "Explanation: 2 occurs 3 times in the array\n",
        "\t     3 occurs 1 time in the array\n",
        "             4 occurs 2 time in the array"
      ],
      "metadata": {
        "id": "pM2R-5ZB9AKD"
      }
    },
    {
      "cell_type": "code",
      "source": [
        "def freq(arr):\n",
        "  dict={}\n",
        "  for i in range(len(arr)):\n",
        "    if arr[i] in dict:\n",
        "      dict[arr[i]]+=1\n",
        "      i+=1\n",
        "    else:\n",
        "      dict[arr[i]]=1\n",
        "  return dict\n",
        "n=7\n",
        "arr=[1,2,1,2,3,3,3]\n",
        "print(freq(arr))"
      ],
      "metadata": {
        "colab": {
          "base_uri": "https://localhost:8080/"
        },
        "id": "jWeIICm_8Qgt",
        "outputId": "4ea9b948-27e0-426d-85d2-c3be2c002665"
      },
      "execution_count": null,
      "outputs": [
        {
          "output_type": "stream",
          "name": "stdout",
          "text": [
            "{1: 2, 2: 2, 3: 3}\n"
          ]
        }
      ]
    },
    {
      "cell_type": "markdown",
      "source": [
        "# **Rotate array by K elements – Block Swap Algorithm**\n",
        "Example 1:<br>\n",
        "Input: N = 5, array[] = {1,2,3,4,5} K=2<br>\n",
        "Output: {3,4,5,1,2}<br>\n",
        "Explanation: Rotate the array to right by 2 elements.\n",
        "\n",
        "Example 2:<br>\n",
        "Input: N = 7, array[] = {1,2,3,4,5,6,7} K=3<br>\n",
        "Output: {4,5,6,7,1,2,3}<br>\n",
        "Explanation: Rotate the array to right by 3 elements."
      ],
      "metadata": {
        "id": "t-gZffsm-lpV"
      }
    },
    {
      "cell_type": "code",
      "source": [
        "def rotate(arr,k):\n",
        "  k=k%len(arr)\n",
        "\n",
        "  for _ in range(k):\n",
        "    arr.insert(0,arr.pop())\n",
        "\n",
        "arr = [1, 2, 3, 4, 5]\n",
        "k1 = 2\n",
        "rotate(arr ,k1)\n",
        "print(\"Example 1 Output:\", arr)\n",
        "\n",
        "\n",
        "arr = [1, 2, 3, 4, 5, 6, 7]\n",
        "k2 = 3\n",
        "rotate(arr, k2)\n",
        "print(\"Example 2 Output:\", arr)\n",
        "\n"
      ],
      "metadata": {
        "colab": {
          "base_uri": "https://localhost:8080/"
        },
        "id": "Q7maI6OZ-nI5",
        "outputId": "6a83e228-de38-4893-bbe9-ea8d4a78584d"
      },
      "execution_count": null,
      "outputs": [
        {
          "output_type": "stream",
          "name": "stdout",
          "text": [
            "Example 1 Output: [4, 5, 1, 2, 3]\n",
            "Example 2 Output: [5, 6, 7, 1, 2, 3, 4]\n"
          ]
        }
      ]
    },
    {
      "cell_type": "markdown",
      "source": [
        "**Example 1:\n",
        "Input: N = 5, array[] = {1,2,3,4,5}\n",
        "Output: 3 **\n",
        "*Explanation: Average is the sum of all the elements divided by number of elements.Therefore (1+2+3+4+5)/5 = 3.*\n",
        "\n",
        "**Example 2:\n",
        "Input:  N=6, array[] = {1,2,1,1,5,1}\n",
        "Output: 1.8 **\n",
        "*Explanation: Average is the sum of all the elements divided by number of elements.Therefore (1+2+1+1+5+1)/6 = 1.8*"
      ],
      "metadata": {
        "id": "Ei5-8NIbBw47"
      }
    },
    {
      "cell_type": "code",
      "source": [
        "def average(arr,n):\n",
        "  sum=0\n",
        "  for i in range(len(arr)):\n",
        "    sum+=arr[i]\n",
        "    i+=1\n",
        "  return float(sum/n)\n",
        "n1=5\n",
        "arr1=[1,2,3,4,5]\n",
        "print(average(arr1,n1))\n",
        "\n",
        "n2=6\n",
        "arr2=[1,2,1,1,5,1]\n",
        "print(average(arr2,n2))\n",
        "\n"
      ],
      "metadata": {
        "colab": {
          "base_uri": "https://localhost:8080/"
        },
        "id": "qvBtLXYBB_F1",
        "outputId": "45270e77-32b6-4ee8-d0d2-f386884cd4af"
      },
      "execution_count": null,
      "outputs": [
        {
          "output_type": "stream",
          "name": "stdout",
          "text": [
            "3.0\n",
            "1.8333333333333333\n"
          ]
        }
      ]
    },
    {
      "cell_type": "markdown",
      "source": [
        "# **REMOVE DUPLICATE BOTH SORTED AND UNSORTED ARRAY**\n",
        "\n",
        "Example 1:\n",
        "\n",
        "Input: arr[1,1,2,2,2,3,3]\n",
        "\n",
        "Output: arr[1,2,3,_,_,_,_]\n",
        "\n",
        "Explanation: Total number of unique elements are 3, i.e[1,2,3] and Therefore return 3 after assigning [1,2,3] in the beginning of the array.\n",
        "\n",
        "Example 2:\n",
        "\n",
        "Input: arr[1,1,1,2,2,3,3,3,3,4,4]\n",
        "\n",
        "Output: arr[1,2,3,4,_,_,_,_,_,_,_]\n",
        "\n",
        "Explanation: Total number of unique elements are 4, i.e[1,2,3,4] and Therefore return 4 after assigning [1,2,3,4] in the beginning of the array. *italicised text* *italicised text*"
      ],
      "metadata": {
        "id": "NvwQzAZnJ3FG"
      }
    },
    {
      "cell_type": "code",
      "source": [
        "def removeDuplicate(arr):\n",
        "  unique=[]\n",
        "  for i in range(len(arr)-1):\n",
        "    if arr[i] not in unique:\n",
        "      unique.append(arr[i])\n",
        "      i+=1\n",
        "    else:\n",
        "      i+=1\n",
        "  return unique\n",
        "\n",
        "arr1=[1,1,1,2,2,3,3,3,3,4,4]\n",
        "print(\"unique value array is :\",removeDuplicate(arr1))\n",
        "\n",
        "arr2=[1,1,2,2,2,3,3]\n",
        "print(\"unique value array is :\",removeDuplicate(arr2))\n",
        "\n",
        "arr3=[2,3,1,9,3,1,3,9]\n",
        "print(\"unique value array is :\",removeDuplicate(arr3))\n",
        "\n",
        "\n",
        "#Using set() we can remove duplicate element from array.\n",
        "\n"
      ],
      "metadata": {
        "colab": {
          "base_uri": "https://localhost:8080/"
        },
        "id": "Az2Rq87DKB1A",
        "outputId": "5d4d54a3-53bd-4a94-89fb-3bb493c1fa93"
      },
      "execution_count": 6,
      "outputs": [
        {
          "output_type": "stream",
          "name": "stdout",
          "text": [
            "unique value array is : [1, 2, 3, 4]\n",
            "unique value array is : [1, 2, 3]\n",
            "unique value array is : [2, 3, 1, 9]\n"
          ]
        }
      ]
    },
    {
      "cell_type": "markdown",
      "source": [
        "***Above code has time complexity is O(n^2) and Space comlexity is O(n)***"
      ],
      "metadata": {
        "id": "F6m_XqR1MLar"
      }
    },
    {
      "cell_type": "markdown",
      "source": [
        "**Optimal solution is given below**<br>\n",
        "**Time complexity is O(nlog n)**<br>\n",
        "**Space Complexity is O(1)**"
      ],
      "metadata": {
        "id": "JJ0vc_L9OGTc"
      }
    },
    {
      "cell_type": "code",
      "source": [
        "def removeDuplicate(arr):\n",
        "  if not arr:\n",
        "    return arr\n",
        "\n",
        "  arr.sort()\n",
        "  index=1\n",
        "  for i in range(1,len(arr)):\n",
        "    if arr[i]!= arr[i-1]:\n",
        "      arr[index]=arr[i]\n",
        "      index+=1\n",
        "  del arr[index:]\n",
        "  return arr\n",
        "\n",
        "arr1=[1,1,1,2,2,3,3,3,3,4,4]\n",
        "print(\"unique value array is :\",removeDuplicate(arr1))\n",
        "\n",
        "arr2=[1,1,2,2,2,3,3]\n",
        "print(\"unique value array is :\",removeDuplicate(arr2))\n",
        "\n"
      ],
      "metadata": {
        "colab": {
          "base_uri": "https://localhost:8080/"
        },
        "id": "3y6gmTeyOqlX",
        "outputId": "2c8ce838-555c-4c4b-8027-39819356b1b1"
      },
      "execution_count": 9,
      "outputs": [
        {
          "output_type": "stream",
          "name": "stdout",
          "text": [
            "unique value array is : [1, 2, 3, 4]\n",
            "unique value array is : [1, 2, 3]\n"
          ]
        }
      ]
    },
    {
      "cell_type": "markdown",
      "source": [],
      "metadata": {
        "id": "k74w9fULP7Jo"
      }
    }
  ]
}